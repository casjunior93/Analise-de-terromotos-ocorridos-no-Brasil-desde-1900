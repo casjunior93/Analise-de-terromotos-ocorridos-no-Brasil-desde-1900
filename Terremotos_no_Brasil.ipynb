{
  "nbformat": 4,
  "nbformat_minor": 0,
  "metadata": {
    "colab": {
      "name": "Terremotos_no_Brasil.ipynb",
      "provenance": [],
      "collapsed_sections": [],
      "include_colab_link": true
    },
    "kernelspec": {
      "name": "python3",
      "display_name": "Python 3"
    },
    "language_info": {
      "name": "python"
    }
  },
  "cells": [
    {
      "cell_type": "markdown",
      "metadata": {
        "id": "view-in-github",
        "colab_type": "text"
      },
      "source": [
        "<a href=\"https://colab.research.google.com/github/casjunior93/Analise-de-terromotos-ocorridos-no-Brasil-desde-1900/blob/master/Terremotos_no_Brasil.ipynb\" target=\"_parent\"><img src=\"https://colab.research.google.com/assets/colab-badge.svg\" alt=\"Open In Colab\"/></a>"
      ]
    },
    {
      "cell_type": "markdown",
      "source": [
        "# **Análise de terromotos ocorridos no Brasil desde o início dos registros sísmicos**\n",
        "\n",
        "No dia 24/02/2022, habitantes das cidades de Espírito Santo do Pinhal-SP, Santo Antônio do Jardim-SP, São João da Boa Vista-SP, Águas da Prata-SP e Poços de Caldas-MG, relataram que houve um tremor perceptível de terra após um barulho alto parecido com um trovão.\n",
        "\n",
        "Segundo relatos, \"Houve um estrondo grande, parecido com um forte trovão\", e após houve um tremor de terra de curta duração.\n",
        "\n",
        "Atualização: Segundo o Observatório Cismológico de São Sebastião da Grama (SP), o terremoto teve magnitude 2.7 na Escala Richter e teve como epicentro a cidade de São Sebastião da Grama (SP). Fonte: https://andradas.portaldacidade.com/noticias/regiao/regiao-de-andradas-e-atingida-por-terremoto-de-magnitude-27-5909\n",
        "\n",
        "O interessante é que tal fenômeno ocorreu no centenário do maior tremor já registrado na Região Sudeste do Brasil. O \"Sismo de Pinhal\", ocorrido em 27 de janeiro de 1922, atingiu magnitude 5.1 na escala Richter. Fonte: https://portaldepinhal.com.br/2022/01/o-terremoto-que-apavorou-sp-ha-100-anos-epicentro-foi-em-espirito-santo-do-pinhal/ e https://www.youtube.com/watch?v=0qDSh68XqpY&ab_channel=DepartamentodeGeof%C3%ADsicadoIAG-USP .\n",
        "\n",
        "Tal ocorrido me motivou a fazer uma análise dos terremotos que aconteceram no Brasil, na tentativa de identificar algum padrão geográfico ou temporal. Outro fator que me motivou é que moro em Andradas-MG, que fica na região onde ocorreu o tremor desse 24 de fevereiro e cerca de 30-40 quilômetros do epicentro do sismo de 1922.\n",
        "\n",
        "Para essa análise vou usar dados da versão do Boletim Sísmico do Centro de Sismologia da USP de janeiro de 2022 (http://moho.iag.usp.br/eq/bulletin/). Como os dados do boletim vão até o final do ano de 2020, eu irei complementar os dados do boletim com os dados obtidos através da consulta à ferramenta Últimos terremotos do Centro de Sismologia da USP (http://moho.iag.usp.br/eq/latest)."
      ],
      "metadata": {
        "id": "yFNyIVntpGdq"
      }
    },
    {
      "cell_type": "code",
      "source": [
        "from google.colab import drive\n",
        "drive.mount('/content/drive')"
      ],
      "metadata": {
        "colab": {
          "base_uri": "https://localhost:8080/"
        },
        "id": "8NKFEsd89vza",
        "outputId": "2362c2a3-7bd1-46f1-92d9-e19a24356f6b"
      },
      "execution_count": null,
      "outputs": [
        {
          "output_type": "stream",
          "name": "stdout",
          "text": [
            "Drive already mounted at /content/drive; to attempt to forcibly remount, call drive.mount(\"/content/drive\", force_remount=True).\n"
          ]
        }
      ]
    },
    {
      "cell_type": "markdown",
      "source": [
        "# Importando os dados\n"
      ],
      "metadata": {
        "id": "nC5mgmWPq4Jv"
      }
    },
    {
      "cell_type": "markdown",
      "source": [
        "## Bibliotecas Python"
      ],
      "metadata": {
        "id": "iDTV0SeMsyai"
      }
    },
    {
      "cell_type": "code",
      "source": [
        "import pandas as pd\n",
        "import warnings\n",
        "warnings.filterwarnings('ignore')"
      ],
      "metadata": {
        "id": "fv8qaWmHs1yZ"
      },
      "execution_count": null,
      "outputs": []
    },
    {
      "cell_type": "markdown",
      "source": [
        "## Dados do Centro de Sismologia da USP"
      ],
      "metadata": {
        "id": "C1SZJ4MIrD8l"
      }
    },
    {
      "cell_type": "markdown",
      "source": [
        "Dados obtidos da página Últimos terremotos (http://moho.iag.usp.br/eq/latest). Os dados são de 01 de janeiro de 2021 até 26 de fevereiro de 2022."
      ],
      "metadata": {
        "id": "ot3g-iNxrHUP"
      }
    },
    {
      "cell_type": "code",
      "execution_count": null,
      "metadata": {
        "colab": {
          "base_uri": "https://localhost:8080/",
          "height": 206
        },
        "id": "nK70ZcLEpFXv",
        "outputId": "2e1c9dbd-f6c7-41e4-8bfe-f53b986d7a86"
      },
      "outputs": [
        {
          "output_type": "execute_result",
          "data": {
            "text/html": [
              "\n",
              "  <div id=\"df-5cbbd528-2ed3-435e-8be0-b3fe77460fe5\">\n",
              "    <div class=\"colab-df-container\">\n",
              "      <div>\n",
              "<style scoped>\n",
              "    .dataframe tbody tr th:only-of-type {\n",
              "        vertical-align: middle;\n",
              "    }\n",
              "\n",
              "    .dataframe tbody tr th {\n",
              "        vertical-align: top;\n",
              "    }\n",
              "\n",
              "    .dataframe thead th {\n",
              "        text-align: right;\n",
              "    }\n",
              "</style>\n",
              "<table border=\"1\" class=\"dataframe\">\n",
              "  <thead>\n",
              "    <tr style=\"text-align: right;\">\n",
              "      <th></th>\n",
              "      <th>data</th>\n",
              "      <th>longitude</th>\n",
              "      <th>latitude</th>\n",
              "      <th>magnitude</th>\n",
              "      <th>regiao</th>\n",
              "    </tr>\n",
              "  </thead>\n",
              "  <tbody>\n",
              "    <tr>\n",
              "      <th>320</th>\n",
              "      <td>2021-01-17T17:12:06.21Z</td>\n",
              "      <td>-48678</td>\n",
              "      <td>-13161</td>\n",
              "      <td>3.2</td>\n",
              "      <td>Montividiu do Norte/GO</td>\n",
              "    </tr>\n",
              "    <tr>\n",
              "      <th>321</th>\n",
              "      <td>2021-01-15T22:36:37.7Z</td>\n",
              "      <td>-39380</td>\n",
              "      <td>-5129</td>\n",
              "      <td>1.9</td>\n",
              "      <td>Quixeramobim/CE</td>\n",
              "    </tr>\n",
              "    <tr>\n",
              "      <th>322</th>\n",
              "      <td>2021-01-09T15:39:11.687Z</td>\n",
              "      <td>-58422</td>\n",
              "      <td>-25434</td>\n",
              "      <td>2.2</td>\n",
              "      <td>Northeastern Argentina</td>\n",
              "    </tr>\n",
              "    <tr>\n",
              "      <th>323</th>\n",
              "      <td>2021-01-07T15:27:44.690Z</td>\n",
              "      <td>-40104</td>\n",
              "      <td>-3715</td>\n",
              "      <td>2.1</td>\n",
              "      <td>Sobral/CE</td>\n",
              "    </tr>\n",
              "    <tr>\n",
              "      <th>324</th>\n",
              "      <td>2021-01-07T02:46:29.358Z</td>\n",
              "      <td>-40318</td>\n",
              "      <td>-3540</td>\n",
              "      <td>2.2</td>\n",
              "      <td>Massape/CE</td>\n",
              "    </tr>\n",
              "  </tbody>\n",
              "</table>\n",
              "</div>\n",
              "      <button class=\"colab-df-convert\" onclick=\"convertToInteractive('df-5cbbd528-2ed3-435e-8be0-b3fe77460fe5')\"\n",
              "              title=\"Convert this dataframe to an interactive table.\"\n",
              "              style=\"display:none;\">\n",
              "        \n",
              "  <svg xmlns=\"http://www.w3.org/2000/svg\" height=\"24px\"viewBox=\"0 0 24 24\"\n",
              "       width=\"24px\">\n",
              "    <path d=\"M0 0h24v24H0V0z\" fill=\"none\"/>\n",
              "    <path d=\"M18.56 5.44l.94 2.06.94-2.06 2.06-.94-2.06-.94-.94-2.06-.94 2.06-2.06.94zm-11 1L8.5 8.5l.94-2.06 2.06-.94-2.06-.94L8.5 2.5l-.94 2.06-2.06.94zm10 10l.94 2.06.94-2.06 2.06-.94-2.06-.94-.94-2.06-.94 2.06-2.06.94z\"/><path d=\"M17.41 7.96l-1.37-1.37c-.4-.4-.92-.59-1.43-.59-.52 0-1.04.2-1.43.59L10.3 9.45l-7.72 7.72c-.78.78-.78 2.05 0 2.83L4 21.41c.39.39.9.59 1.41.59.51 0 1.02-.2 1.41-.59l7.78-7.78 2.81-2.81c.8-.78.8-2.07 0-2.86zM5.41 20L4 18.59l7.72-7.72 1.47 1.35L5.41 20z\"/>\n",
              "  </svg>\n",
              "      </button>\n",
              "      \n",
              "  <style>\n",
              "    .colab-df-container {\n",
              "      display:flex;\n",
              "      flex-wrap:wrap;\n",
              "      gap: 12px;\n",
              "    }\n",
              "\n",
              "    .colab-df-convert {\n",
              "      background-color: #E8F0FE;\n",
              "      border: none;\n",
              "      border-radius: 50%;\n",
              "      cursor: pointer;\n",
              "      display: none;\n",
              "      fill: #1967D2;\n",
              "      height: 32px;\n",
              "      padding: 0 0 0 0;\n",
              "      width: 32px;\n",
              "    }\n",
              "\n",
              "    .colab-df-convert:hover {\n",
              "      background-color: #E2EBFA;\n",
              "      box-shadow: 0px 1px 2px rgba(60, 64, 67, 0.3), 0px 1px 3px 1px rgba(60, 64, 67, 0.15);\n",
              "      fill: #174EA6;\n",
              "    }\n",
              "\n",
              "    [theme=dark] .colab-df-convert {\n",
              "      background-color: #3B4455;\n",
              "      fill: #D2E3FC;\n",
              "    }\n",
              "\n",
              "    [theme=dark] .colab-df-convert:hover {\n",
              "      background-color: #434B5C;\n",
              "      box-shadow: 0px 1px 3px 1px rgba(0, 0, 0, 0.15);\n",
              "      filter: drop-shadow(0px 1px 2px rgba(0, 0, 0, 0.3));\n",
              "      fill: #FFFFFF;\n",
              "    }\n",
              "  </style>\n",
              "\n",
              "      <script>\n",
              "        const buttonEl =\n",
              "          document.querySelector('#df-5cbbd528-2ed3-435e-8be0-b3fe77460fe5 button.colab-df-convert');\n",
              "        buttonEl.style.display =\n",
              "          google.colab.kernel.accessAllowed ? 'block' : 'none';\n",
              "\n",
              "        async function convertToInteractive(key) {\n",
              "          const element = document.querySelector('#df-5cbbd528-2ed3-435e-8be0-b3fe77460fe5');\n",
              "          const dataTable =\n",
              "            await google.colab.kernel.invokeFunction('convertToInteractive',\n",
              "                                                     [key], {});\n",
              "          if (!dataTable) return;\n",
              "\n",
              "          const docLinkHtml = 'Like what you see? Visit the ' +\n",
              "            '<a target=\"_blank\" href=https://colab.research.google.com/notebooks/data_table.ipynb>data table notebook</a>'\n",
              "            + ' to learn more about interactive tables.';\n",
              "          element.innerHTML = '';\n",
              "          dataTable['output_type'] = 'display_data';\n",
              "          await google.colab.output.renderOutput(dataTable, element);\n",
              "          const docLink = document.createElement('div');\n",
              "          docLink.innerHTML = docLinkHtml;\n",
              "          element.appendChild(docLink);\n",
              "        }\n",
              "      </script>\n",
              "    </div>\n",
              "  </div>\n",
              "  "
            ],
            "text/plain": [
              "                         data  longitude  ...  magnitude                  regiao\n",
              "320   2021-01-17T17:12:06.21Z     -48678  ...        3.2  Montividiu do Norte/GO\n",
              "321    2021-01-15T22:36:37.7Z     -39380  ...        1.9         Quixeramobim/CE\n",
              "322  2021-01-09T15:39:11.687Z     -58422  ...        2.2  Northeastern Argentina\n",
              "323  2021-01-07T15:27:44.690Z     -40104  ...        2.1               Sobral/CE\n",
              "324  2021-01-07T02:46:29.358Z     -40318  ...        2.2              Massape/CE\n",
              "\n",
              "[5 rows x 5 columns]"
            ]
          },
          "metadata": {},
          "execution_count": 4
        }
      ],
      "source": [
        "df_uterremotos = pd.read_csv('/content/drive/MyDrive/ANÁLISES DE DADOS/Terremotos/dados/Catalogo.csv')\n",
        "df_uterremotos.tail(5)"
      ]
    },
    {
      "cell_type": "markdown",
      "source": [
        "## Features do dataframe\n",
        "\n",
        "* `data` - Data do terremoto\n",
        "* `longitude` - Longitude do epicentro\n",
        "* `latitude` - Latitude do epicentro\n",
        "* `magnitude` - Magnitude do sismo\n",
        "* `regiao` - Região do sismo "
      ],
      "metadata": {
        "id": "jDzU4DWWwOAx"
      }
    },
    {
      "cell_type": "markdown",
      "source": [
        "### Pré-análise do dataframe"
      ],
      "metadata": {
        "id": "IVYeXr7cvVbX"
      }
    },
    {
      "cell_type": "markdown",
      "source": [
        "Análise geral do dataframe df_boletim:"
      ],
      "metadata": {
        "id": "X-Fq-AwGvdFh"
      }
    },
    {
      "cell_type": "code",
      "source": [
        "df_uterremotos.shape"
      ],
      "metadata": {
        "colab": {
          "base_uri": "https://localhost:8080/"
        },
        "id": "zIGcfPSiHTy-",
        "outputId": "43b3315f-b431-44f4-ce7d-6eb015e823ac"
      },
      "execution_count": null,
      "outputs": [
        {
          "output_type": "execute_result",
          "data": {
            "text/plain": [
              "(325, 5)"
            ]
          },
          "metadata": {},
          "execution_count": 5
        }
      ]
    },
    {
      "cell_type": "code",
      "source": [
        "df_uterremotos.describe(include='all')"
      ],
      "metadata": {
        "colab": {
          "base_uri": "https://localhost:8080/",
          "height": 394
        },
        "id": "9msMxArDuLAY",
        "outputId": "6b5cc8c7-85e6-48ad-8834-a7bcd6e9471e"
      },
      "execution_count": null,
      "outputs": [
        {
          "output_type": "execute_result",
          "data": {
            "text/html": [
              "\n",
              "  <div id=\"df-572c5987-7849-4f4a-94f6-1b63cbbf79ca\">\n",
              "    <div class=\"colab-df-container\">\n",
              "      <div>\n",
              "<style scoped>\n",
              "    .dataframe tbody tr th:only-of-type {\n",
              "        vertical-align: middle;\n",
              "    }\n",
              "\n",
              "    .dataframe tbody tr th {\n",
              "        vertical-align: top;\n",
              "    }\n",
              "\n",
              "    .dataframe thead th {\n",
              "        text-align: right;\n",
              "    }\n",
              "</style>\n",
              "<table border=\"1\" class=\"dataframe\">\n",
              "  <thead>\n",
              "    <tr style=\"text-align: right;\">\n",
              "      <th></th>\n",
              "      <th>data</th>\n",
              "      <th>longitude</th>\n",
              "      <th>latitude</th>\n",
              "      <th>magnitude</th>\n",
              "      <th>regiao</th>\n",
              "    </tr>\n",
              "  </thead>\n",
              "  <tbody>\n",
              "    <tr>\n",
              "      <th>count</th>\n",
              "      <td>325</td>\n",
              "      <td>325.000000</td>\n",
              "      <td>325.000000</td>\n",
              "      <td>325.000000</td>\n",
              "      <td>325</td>\n",
              "    </tr>\n",
              "    <tr>\n",
              "      <th>unique</th>\n",
              "      <td>325</td>\n",
              "      <td>NaN</td>\n",
              "      <td>NaN</td>\n",
              "      <td>NaN</td>\n",
              "      <td>155</td>\n",
              "    </tr>\n",
              "    <tr>\n",
              "      <th>top</th>\n",
              "      <td>2022-02-24T23:48:48.359Z</td>\n",
              "      <td>NaN</td>\n",
              "      <td>NaN</td>\n",
              "      <td>NaN</td>\n",
              "      <td>Guyana</td>\n",
              "    </tr>\n",
              "    <tr>\n",
              "      <th>freq</th>\n",
              "      <td>1</td>\n",
              "      <td>NaN</td>\n",
              "      <td>NaN</td>\n",
              "      <td>NaN</td>\n",
              "      <td>48</td>\n",
              "    </tr>\n",
              "    <tr>\n",
              "      <th>mean</th>\n",
              "      <td>NaN</td>\n",
              "      <td>-47005.858462</td>\n",
              "      <td>-9199.387692</td>\n",
              "      <td>2.503692</td>\n",
              "      <td>NaN</td>\n",
              "    </tr>\n",
              "    <tr>\n",
              "      <th>std</th>\n",
              "      <td>NaN</td>\n",
              "      <td>9665.982154</td>\n",
              "      <td>8547.957020</td>\n",
              "      <td>0.836541</td>\n",
              "      <td>NaN</td>\n",
              "    </tr>\n",
              "    <tr>\n",
              "      <th>min</th>\n",
              "      <td>NaN</td>\n",
              "      <td>-74186.000000</td>\n",
              "      <td>-33643.000000</td>\n",
              "      <td>0.900000</td>\n",
              "      <td>NaN</td>\n",
              "    </tr>\n",
              "    <tr>\n",
              "      <th>25%</th>\n",
              "      <td>NaN</td>\n",
              "      <td>-57532.000000</td>\n",
              "      <td>-17781.000000</td>\n",
              "      <td>1.900000</td>\n",
              "      <td>NaN</td>\n",
              "    </tr>\n",
              "    <tr>\n",
              "      <th>50%</th>\n",
              "      <td>NaN</td>\n",
              "      <td>-44825.000000</td>\n",
              "      <td>-8181.000000</td>\n",
              "      <td>2.300000</td>\n",
              "      <td>NaN</td>\n",
              "    </tr>\n",
              "    <tr>\n",
              "      <th>75%</th>\n",
              "      <td>NaN</td>\n",
              "      <td>-39509.000000</td>\n",
              "      <td>-3749.000000</td>\n",
              "      <td>3.000000</td>\n",
              "      <td>NaN</td>\n",
              "    </tr>\n",
              "    <tr>\n",
              "      <th>max</th>\n",
              "      <td>NaN</td>\n",
              "      <td>-34855.000000</td>\n",
              "      <td>3013.000000</td>\n",
              "      <td>5.900000</td>\n",
              "      <td>NaN</td>\n",
              "    </tr>\n",
              "  </tbody>\n",
              "</table>\n",
              "</div>\n",
              "      <button class=\"colab-df-convert\" onclick=\"convertToInteractive('df-572c5987-7849-4f4a-94f6-1b63cbbf79ca')\"\n",
              "              title=\"Convert this dataframe to an interactive table.\"\n",
              "              style=\"display:none;\">\n",
              "        \n",
              "  <svg xmlns=\"http://www.w3.org/2000/svg\" height=\"24px\"viewBox=\"0 0 24 24\"\n",
              "       width=\"24px\">\n",
              "    <path d=\"M0 0h24v24H0V0z\" fill=\"none\"/>\n",
              "    <path d=\"M18.56 5.44l.94 2.06.94-2.06 2.06-.94-2.06-.94-.94-2.06-.94 2.06-2.06.94zm-11 1L8.5 8.5l.94-2.06 2.06-.94-2.06-.94L8.5 2.5l-.94 2.06-2.06.94zm10 10l.94 2.06.94-2.06 2.06-.94-2.06-.94-.94-2.06-.94 2.06-2.06.94z\"/><path d=\"M17.41 7.96l-1.37-1.37c-.4-.4-.92-.59-1.43-.59-.52 0-1.04.2-1.43.59L10.3 9.45l-7.72 7.72c-.78.78-.78 2.05 0 2.83L4 21.41c.39.39.9.59 1.41.59.51 0 1.02-.2 1.41-.59l7.78-7.78 2.81-2.81c.8-.78.8-2.07 0-2.86zM5.41 20L4 18.59l7.72-7.72 1.47 1.35L5.41 20z\"/>\n",
              "  </svg>\n",
              "      </button>\n",
              "      \n",
              "  <style>\n",
              "    .colab-df-container {\n",
              "      display:flex;\n",
              "      flex-wrap:wrap;\n",
              "      gap: 12px;\n",
              "    }\n",
              "\n",
              "    .colab-df-convert {\n",
              "      background-color: #E8F0FE;\n",
              "      border: none;\n",
              "      border-radius: 50%;\n",
              "      cursor: pointer;\n",
              "      display: none;\n",
              "      fill: #1967D2;\n",
              "      height: 32px;\n",
              "      padding: 0 0 0 0;\n",
              "      width: 32px;\n",
              "    }\n",
              "\n",
              "    .colab-df-convert:hover {\n",
              "      background-color: #E2EBFA;\n",
              "      box-shadow: 0px 1px 2px rgba(60, 64, 67, 0.3), 0px 1px 3px 1px rgba(60, 64, 67, 0.15);\n",
              "      fill: #174EA6;\n",
              "    }\n",
              "\n",
              "    [theme=dark] .colab-df-convert {\n",
              "      background-color: #3B4455;\n",
              "      fill: #D2E3FC;\n",
              "    }\n",
              "\n",
              "    [theme=dark] .colab-df-convert:hover {\n",
              "      background-color: #434B5C;\n",
              "      box-shadow: 0px 1px 3px 1px rgba(0, 0, 0, 0.15);\n",
              "      filter: drop-shadow(0px 1px 2px rgba(0, 0, 0, 0.3));\n",
              "      fill: #FFFFFF;\n",
              "    }\n",
              "  </style>\n",
              "\n",
              "      <script>\n",
              "        const buttonEl =\n",
              "          document.querySelector('#df-572c5987-7849-4f4a-94f6-1b63cbbf79ca button.colab-df-convert');\n",
              "        buttonEl.style.display =\n",
              "          google.colab.kernel.accessAllowed ? 'block' : 'none';\n",
              "\n",
              "        async function convertToInteractive(key) {\n",
              "          const element = document.querySelector('#df-572c5987-7849-4f4a-94f6-1b63cbbf79ca');\n",
              "          const dataTable =\n",
              "            await google.colab.kernel.invokeFunction('convertToInteractive',\n",
              "                                                     [key], {});\n",
              "          if (!dataTable) return;\n",
              "\n",
              "          const docLinkHtml = 'Like what you see? Visit the ' +\n",
              "            '<a target=\"_blank\" href=https://colab.research.google.com/notebooks/data_table.ipynb>data table notebook</a>'\n",
              "            + ' to learn more about interactive tables.';\n",
              "          element.innerHTML = '';\n",
              "          dataTable['output_type'] = 'display_data';\n",
              "          await google.colab.output.renderOutput(dataTable, element);\n",
              "          const docLink = document.createElement('div');\n",
              "          docLink.innerHTML = docLinkHtml;\n",
              "          element.appendChild(docLink);\n",
              "        }\n",
              "      </script>\n",
              "    </div>\n",
              "  </div>\n",
              "  "
            ],
            "text/plain": [
              "                            data     longitude  ...   magnitude  regiao\n",
              "count                        325    325.000000  ...  325.000000     325\n",
              "unique                       325           NaN  ...         NaN     155\n",
              "top     2022-02-24T23:48:48.359Z           NaN  ...         NaN  Guyana\n",
              "freq                           1           NaN  ...         NaN      48\n",
              "mean                         NaN -47005.858462  ...    2.503692     NaN\n",
              "std                          NaN   9665.982154  ...    0.836541     NaN\n",
              "min                          NaN -74186.000000  ...    0.900000     NaN\n",
              "25%                          NaN -57532.000000  ...    1.900000     NaN\n",
              "50%                          NaN -44825.000000  ...    2.300000     NaN\n",
              "75%                          NaN -39509.000000  ...    3.000000     NaN\n",
              "max                          NaN -34855.000000  ...    5.900000     NaN\n",
              "\n",
              "[11 rows x 5 columns]"
            ]
          },
          "metadata": {},
          "execution_count": 6
        }
      ]
    },
    {
      "cell_type": "markdown",
      "source": [
        "Tipo dos dados:"
      ],
      "metadata": {
        "id": "AoTC7u5xEzwM"
      }
    },
    {
      "cell_type": "code",
      "source": [
        "df_uterremotos.dtypes"
      ],
      "metadata": {
        "colab": {
          "base_uri": "https://localhost:8080/"
        },
        "id": "HMEztuZevhzF",
        "outputId": "eb020858-9c41-404e-ebe4-16c28fff59c1"
      },
      "execution_count": null,
      "outputs": [
        {
          "output_type": "execute_result",
          "data": {
            "text/plain": [
              "data          object\n",
              "longitude      int64\n",
              "latitude       int64\n",
              "magnitude    float64\n",
              "regiao        object\n",
              "dtype: object"
            ]
          },
          "metadata": {},
          "execution_count": 7
        }
      ]
    },
    {
      "cell_type": "markdown",
      "source": [
        "Dados faltantes:"
      ],
      "metadata": {
        "id": "O2WeX3R1PXL9"
      }
    },
    {
      "cell_type": "code",
      "source": [
        "df_uterremotos.isnull().sum()"
      ],
      "metadata": {
        "colab": {
          "base_uri": "https://localhost:8080/"
        },
        "id": "tUO884JxPOeD",
        "outputId": "2719cb92-4217-4a9c-9785-3c22592ad56c"
      },
      "execution_count": null,
      "outputs": [
        {
          "output_type": "execute_result",
          "data": {
            "text/plain": [
              "data         0\n",
              "longitude    0\n",
              "latitude     0\n",
              "magnitude    0\n",
              "regiao       0\n",
              "dtype: int64"
            ]
          },
          "metadata": {},
          "execution_count": 8
        }
      ]
    },
    {
      "cell_type": "markdown",
      "source": [
        "O dataframe não tem dados faltantes, mas pode-se perceber pela visualização dos dados e pela análise descritiva que existem localidades que estão fora do Brasil. Como o foco do estudo é o território brasileiro, vou encontrar esse dados e excluí-los."
      ],
      "metadata": {
        "id": "g3kQojm1UOUq"
      }
    },
    {
      "cell_type": "markdown",
      "source": [
        "Na análise descritiva, pode-se perceber que a Guyana é a região com maior frequência de terremotos. Porém, é uma região fora do Brasil. Por isso decidi excluí-la."
      ],
      "metadata": {
        "id": "wyw_HLbgVLkP"
      }
    },
    {
      "cell_type": "code",
      "source": [
        "df_uterremotos.drop(df_uterremotos.loc[df_uterremotos['regiao']=='Guyana'].index, inplace=True)"
      ],
      "metadata": {
        "id": "xPutdP1iVwCa"
      },
      "execution_count": null,
      "outputs": []
    },
    {
      "cell_type": "markdown",
      "source": [
        "O próximo passo é identificar quais regiões possuem a sigla de algum estado brasileiro. As regiões que não tiverem serão avaliadas."
      ],
      "metadata": {
        "id": "BHIzTPmGX0ZU"
      }
    },
    {
      "cell_type": "code",
      "source": [
        "estados = [\n",
        "    'AC',\n",
        "    'AL',\n",
        "    'AP',\n",
        "    'AM',\n",
        "    'BA',\n",
        "    'CE',\n",
        "    'DF',\n",
        "    'ES',\n",
        "    'GO',\n",
        "    'MA',\n",
        "    'MT',\n",
        "    'MS',\n",
        "    'MG',\n",
        "    'PA',\n",
        "    'PB',\n",
        "    'PR',\n",
        "    'PE',\n",
        "    'PI',\n",
        "    'RJ',\n",
        "    'RN',\n",
        "    'RS',\n",
        "    'RO',\n",
        "    'RR',\n",
        "    'SC',\n",
        "    'SP',\n",
        "    'SE',\n",
        "    'TO'\n",
        "]\n",
        "\n",
        "def temEstadoBR(df):\n",
        "  ''' verifica se a região possui a sigla de algum estado brasileiro '''\n",
        "  for estado in estados:\n",
        "    if estado in df.regiao:\n",
        "      return 1\n",
        "  return 0\n",
        " \n",
        "# creating and passing series to new column\n",
        "df_uterremotos[\"temEstadoBR\"]= df_uterremotos.apply(temEstadoBR, axis=1)"
      ],
      "metadata": {
        "id": "G7vSIsGDV2Em"
      },
      "execution_count": null,
      "outputs": []
    },
    {
      "cell_type": "code",
      "source": [
        "df_uterremotos.groupby(['temEstadoBR']).count()"
      ],
      "metadata": {
        "colab": {
          "base_uri": "https://localhost:8080/",
          "height": 143
        },
        "id": "n6HgKgQCYsvA",
        "outputId": "85d4594f-979e-4238-8a69-7f0b7a71bd6c"
      },
      "execution_count": null,
      "outputs": [
        {
          "output_type": "execute_result",
          "data": {
            "text/html": [
              "\n",
              "  <div id=\"df-4ea41f9b-cba1-4ad9-8d45-42f91725c5e5\">\n",
              "    <div class=\"colab-df-container\">\n",
              "      <div>\n",
              "<style scoped>\n",
              "    .dataframe tbody tr th:only-of-type {\n",
              "        vertical-align: middle;\n",
              "    }\n",
              "\n",
              "    .dataframe tbody tr th {\n",
              "        vertical-align: top;\n",
              "    }\n",
              "\n",
              "    .dataframe thead th {\n",
              "        text-align: right;\n",
              "    }\n",
              "</style>\n",
              "<table border=\"1\" class=\"dataframe\">\n",
              "  <thead>\n",
              "    <tr style=\"text-align: right;\">\n",
              "      <th></th>\n",
              "      <th>data</th>\n",
              "      <th>longitude</th>\n",
              "      <th>latitude</th>\n",
              "      <th>magnitude</th>\n",
              "      <th>regiao</th>\n",
              "    </tr>\n",
              "    <tr>\n",
              "      <th>temEstadoBR</th>\n",
              "      <th></th>\n",
              "      <th></th>\n",
              "      <th></th>\n",
              "      <th></th>\n",
              "      <th></th>\n",
              "    </tr>\n",
              "  </thead>\n",
              "  <tbody>\n",
              "    <tr>\n",
              "      <th>0</th>\n",
              "      <td>10</td>\n",
              "      <td>10</td>\n",
              "      <td>10</td>\n",
              "      <td>10</td>\n",
              "      <td>10</td>\n",
              "    </tr>\n",
              "    <tr>\n",
              "      <th>1</th>\n",
              "      <td>267</td>\n",
              "      <td>267</td>\n",
              "      <td>267</td>\n",
              "      <td>267</td>\n",
              "      <td>267</td>\n",
              "    </tr>\n",
              "  </tbody>\n",
              "</table>\n",
              "</div>\n",
              "      <button class=\"colab-df-convert\" onclick=\"convertToInteractive('df-4ea41f9b-cba1-4ad9-8d45-42f91725c5e5')\"\n",
              "              title=\"Convert this dataframe to an interactive table.\"\n",
              "              style=\"display:none;\">\n",
              "        \n",
              "  <svg xmlns=\"http://www.w3.org/2000/svg\" height=\"24px\"viewBox=\"0 0 24 24\"\n",
              "       width=\"24px\">\n",
              "    <path d=\"M0 0h24v24H0V0z\" fill=\"none\"/>\n",
              "    <path d=\"M18.56 5.44l.94 2.06.94-2.06 2.06-.94-2.06-.94-.94-2.06-.94 2.06-2.06.94zm-11 1L8.5 8.5l.94-2.06 2.06-.94-2.06-.94L8.5 2.5l-.94 2.06-2.06.94zm10 10l.94 2.06.94-2.06 2.06-.94-2.06-.94-.94-2.06-.94 2.06-2.06.94z\"/><path d=\"M17.41 7.96l-1.37-1.37c-.4-.4-.92-.59-1.43-.59-.52 0-1.04.2-1.43.59L10.3 9.45l-7.72 7.72c-.78.78-.78 2.05 0 2.83L4 21.41c.39.39.9.59 1.41.59.51 0 1.02-.2 1.41-.59l7.78-7.78 2.81-2.81c.8-.78.8-2.07 0-2.86zM5.41 20L4 18.59l7.72-7.72 1.47 1.35L5.41 20z\"/>\n",
              "  </svg>\n",
              "      </button>\n",
              "      \n",
              "  <style>\n",
              "    .colab-df-container {\n",
              "      display:flex;\n",
              "      flex-wrap:wrap;\n",
              "      gap: 12px;\n",
              "    }\n",
              "\n",
              "    .colab-df-convert {\n",
              "      background-color: #E8F0FE;\n",
              "      border: none;\n",
              "      border-radius: 50%;\n",
              "      cursor: pointer;\n",
              "      display: none;\n",
              "      fill: #1967D2;\n",
              "      height: 32px;\n",
              "      padding: 0 0 0 0;\n",
              "      width: 32px;\n",
              "    }\n",
              "\n",
              "    .colab-df-convert:hover {\n",
              "      background-color: #E2EBFA;\n",
              "      box-shadow: 0px 1px 2px rgba(60, 64, 67, 0.3), 0px 1px 3px 1px rgba(60, 64, 67, 0.15);\n",
              "      fill: #174EA6;\n",
              "    }\n",
              "\n",
              "    [theme=dark] .colab-df-convert {\n",
              "      background-color: #3B4455;\n",
              "      fill: #D2E3FC;\n",
              "    }\n",
              "\n",
              "    [theme=dark] .colab-df-convert:hover {\n",
              "      background-color: #434B5C;\n",
              "      box-shadow: 0px 1px 3px 1px rgba(0, 0, 0, 0.15);\n",
              "      filter: drop-shadow(0px 1px 2px rgba(0, 0, 0, 0.3));\n",
              "      fill: #FFFFFF;\n",
              "    }\n",
              "  </style>\n",
              "\n",
              "      <script>\n",
              "        const buttonEl =\n",
              "          document.querySelector('#df-4ea41f9b-cba1-4ad9-8d45-42f91725c5e5 button.colab-df-convert');\n",
              "        buttonEl.style.display =\n",
              "          google.colab.kernel.accessAllowed ? 'block' : 'none';\n",
              "\n",
              "        async function convertToInteractive(key) {\n",
              "          const element = document.querySelector('#df-4ea41f9b-cba1-4ad9-8d45-42f91725c5e5');\n",
              "          const dataTable =\n",
              "            await google.colab.kernel.invokeFunction('convertToInteractive',\n",
              "                                                     [key], {});\n",
              "          if (!dataTable) return;\n",
              "\n",
              "          const docLinkHtml = 'Like what you see? Visit the ' +\n",
              "            '<a target=\"_blank\" href=https://colab.research.google.com/notebooks/data_table.ipynb>data table notebook</a>'\n",
              "            + ' to learn more about interactive tables.';\n",
              "          element.innerHTML = '';\n",
              "          dataTable['output_type'] = 'display_data';\n",
              "          await google.colab.output.renderOutput(dataTable, element);\n",
              "          const docLink = document.createElement('div');\n",
              "          docLink.innerHTML = docLinkHtml;\n",
              "          element.appendChild(docLink);\n",
              "        }\n",
              "      </script>\n",
              "    </div>\n",
              "  </div>\n",
              "  "
            ],
            "text/plain": [
              "             data  longitude  latitude  magnitude  regiao\n",
              "temEstadoBR                                              \n",
              "0              10         10        10         10      10\n",
              "1             267        267       267        267     267"
            ]
          },
          "metadata": {},
          "execution_count": 11
        }
      ]
    },
    {
      "cell_type": "code",
      "source": [
        "df_uterremotos.loc[df_uterremotos.temEstadoBR == 0].head(10)"
      ],
      "metadata": {
        "colab": {
          "base_uri": "https://localhost:8080/",
          "height": 363
        },
        "id": "_XjIIG4sdz2O",
        "outputId": "f38dc686-9ac6-4e08-83dc-3bd7c8925560"
      },
      "execution_count": null,
      "outputs": [
        {
          "output_type": "execute_result",
          "data": {
            "text/html": [
              "\n",
              "  <div id=\"df-2c120366-7ffa-4966-91e8-79de8bf2c0db\">\n",
              "    <div class=\"colab-df-container\">\n",
              "      <div>\n",
              "<style scoped>\n",
              "    .dataframe tbody tr th:only-of-type {\n",
              "        vertical-align: middle;\n",
              "    }\n",
              "\n",
              "    .dataframe tbody tr th {\n",
              "        vertical-align: top;\n",
              "    }\n",
              "\n",
              "    .dataframe thead th {\n",
              "        text-align: right;\n",
              "    }\n",
              "</style>\n",
              "<table border=\"1\" class=\"dataframe\">\n",
              "  <thead>\n",
              "    <tr style=\"text-align: right;\">\n",
              "      <th></th>\n",
              "      <th>data</th>\n",
              "      <th>longitude</th>\n",
              "      <th>latitude</th>\n",
              "      <th>magnitude</th>\n",
              "      <th>regiao</th>\n",
              "      <th>temEstadoBR</th>\n",
              "    </tr>\n",
              "  </thead>\n",
              "  <tbody>\n",
              "    <tr>\n",
              "      <th>93</th>\n",
              "      <td>2021-10-12T04:34:34.519Z</td>\n",
              "      <td>-71313</td>\n",
              "      <td>-9599</td>\n",
              "      <td>4.3</td>\n",
              "      <td>Peru-Brazil Border Region</td>\n",
              "      <td>0</td>\n",
              "    </tr>\n",
              "    <tr>\n",
              "      <th>94</th>\n",
              "      <td>2021-10-02T12:52:33.664Z</td>\n",
              "      <td>-71204</td>\n",
              "      <td>-9569</td>\n",
              "      <td>5.9</td>\n",
              "      <td>Peru-Brazil Border Region</td>\n",
              "      <td>0</td>\n",
              "    </tr>\n",
              "    <tr>\n",
              "      <th>98</th>\n",
              "      <td>2021-09-27T21:52:31.489Z</td>\n",
              "      <td>-72667</td>\n",
              "      <td>-6805</td>\n",
              "      <td>4.3</td>\n",
              "      <td>Peru-Brazil Border Region</td>\n",
              "      <td>0</td>\n",
              "    </tr>\n",
              "    <tr>\n",
              "      <th>121</th>\n",
              "      <td>2021-09-03T16:29:06.750Z</td>\n",
              "      <td>-61784</td>\n",
              "      <td>-14656</td>\n",
              "      <td>4.0</td>\n",
              "      <td>Central Bolivia</td>\n",
              "      <td>0</td>\n",
              "    </tr>\n",
              "    <tr>\n",
              "      <th>130</th>\n",
              "      <td>2021-08-22T08:28:10.896Z</td>\n",
              "      <td>-74186</td>\n",
              "      <td>-8328</td>\n",
              "      <td>5.0</td>\n",
              "      <td>Peru-Brazil Border Region</td>\n",
              "      <td>0</td>\n",
              "    </tr>\n",
              "    <tr>\n",
              "      <th>206</th>\n",
              "      <td>2021-05-18T15:20:56.712Z</td>\n",
              "      <td>-72573</td>\n",
              "      <td>-8503</td>\n",
              "      <td>4.1</td>\n",
              "      <td>Peru-Brazil Border Region</td>\n",
              "      <td>0</td>\n",
              "    </tr>\n",
              "    <tr>\n",
              "      <th>219</th>\n",
              "      <td>2021-05-08T11:55:29.739Z</td>\n",
              "      <td>-55971</td>\n",
              "      <td>-33643</td>\n",
              "      <td>3.5</td>\n",
              "      <td>Uruguay</td>\n",
              "      <td>0</td>\n",
              "    </tr>\n",
              "    <tr>\n",
              "      <th>239</th>\n",
              "      <td>2021-04-11T04:21:02.674Z</td>\n",
              "      <td>-71304</td>\n",
              "      <td>-9243</td>\n",
              "      <td>4.3</td>\n",
              "      <td>Peru-Brazil Border Region</td>\n",
              "      <td>0</td>\n",
              "    </tr>\n",
              "    <tr>\n",
              "      <th>306</th>\n",
              "      <td>2021-01-29T15:46:07.125Z</td>\n",
              "      <td>-74135</td>\n",
              "      <td>-8490</td>\n",
              "      <td>4.2</td>\n",
              "      <td>Peru-Brazil Border Region</td>\n",
              "      <td>0</td>\n",
              "    </tr>\n",
              "    <tr>\n",
              "      <th>322</th>\n",
              "      <td>2021-01-09T15:39:11.687Z</td>\n",
              "      <td>-58422</td>\n",
              "      <td>-25434</td>\n",
              "      <td>2.2</td>\n",
              "      <td>Northeastern Argentina</td>\n",
              "      <td>0</td>\n",
              "    </tr>\n",
              "  </tbody>\n",
              "</table>\n",
              "</div>\n",
              "      <button class=\"colab-df-convert\" onclick=\"convertToInteractive('df-2c120366-7ffa-4966-91e8-79de8bf2c0db')\"\n",
              "              title=\"Convert this dataframe to an interactive table.\"\n",
              "              style=\"display:none;\">\n",
              "        \n",
              "  <svg xmlns=\"http://www.w3.org/2000/svg\" height=\"24px\"viewBox=\"0 0 24 24\"\n",
              "       width=\"24px\">\n",
              "    <path d=\"M0 0h24v24H0V0z\" fill=\"none\"/>\n",
              "    <path d=\"M18.56 5.44l.94 2.06.94-2.06 2.06-.94-2.06-.94-.94-2.06-.94 2.06-2.06.94zm-11 1L8.5 8.5l.94-2.06 2.06-.94-2.06-.94L8.5 2.5l-.94 2.06-2.06.94zm10 10l.94 2.06.94-2.06 2.06-.94-2.06-.94-.94-2.06-.94 2.06-2.06.94z\"/><path d=\"M17.41 7.96l-1.37-1.37c-.4-.4-.92-.59-1.43-.59-.52 0-1.04.2-1.43.59L10.3 9.45l-7.72 7.72c-.78.78-.78 2.05 0 2.83L4 21.41c.39.39.9.59 1.41.59.51 0 1.02-.2 1.41-.59l7.78-7.78 2.81-2.81c.8-.78.8-2.07 0-2.86zM5.41 20L4 18.59l7.72-7.72 1.47 1.35L5.41 20z\"/>\n",
              "  </svg>\n",
              "      </button>\n",
              "      \n",
              "  <style>\n",
              "    .colab-df-container {\n",
              "      display:flex;\n",
              "      flex-wrap:wrap;\n",
              "      gap: 12px;\n",
              "    }\n",
              "\n",
              "    .colab-df-convert {\n",
              "      background-color: #E8F0FE;\n",
              "      border: none;\n",
              "      border-radius: 50%;\n",
              "      cursor: pointer;\n",
              "      display: none;\n",
              "      fill: #1967D2;\n",
              "      height: 32px;\n",
              "      padding: 0 0 0 0;\n",
              "      width: 32px;\n",
              "    }\n",
              "\n",
              "    .colab-df-convert:hover {\n",
              "      background-color: #E2EBFA;\n",
              "      box-shadow: 0px 1px 2px rgba(60, 64, 67, 0.3), 0px 1px 3px 1px rgba(60, 64, 67, 0.15);\n",
              "      fill: #174EA6;\n",
              "    }\n",
              "\n",
              "    [theme=dark] .colab-df-convert {\n",
              "      background-color: #3B4455;\n",
              "      fill: #D2E3FC;\n",
              "    }\n",
              "\n",
              "    [theme=dark] .colab-df-convert:hover {\n",
              "      background-color: #434B5C;\n",
              "      box-shadow: 0px 1px 3px 1px rgba(0, 0, 0, 0.15);\n",
              "      filter: drop-shadow(0px 1px 2px rgba(0, 0, 0, 0.3));\n",
              "      fill: #FFFFFF;\n",
              "    }\n",
              "  </style>\n",
              "\n",
              "      <script>\n",
              "        const buttonEl =\n",
              "          document.querySelector('#df-2c120366-7ffa-4966-91e8-79de8bf2c0db button.colab-df-convert');\n",
              "        buttonEl.style.display =\n",
              "          google.colab.kernel.accessAllowed ? 'block' : 'none';\n",
              "\n",
              "        async function convertToInteractive(key) {\n",
              "          const element = document.querySelector('#df-2c120366-7ffa-4966-91e8-79de8bf2c0db');\n",
              "          const dataTable =\n",
              "            await google.colab.kernel.invokeFunction('convertToInteractive',\n",
              "                                                     [key], {});\n",
              "          if (!dataTable) return;\n",
              "\n",
              "          const docLinkHtml = 'Like what you see? Visit the ' +\n",
              "            '<a target=\"_blank\" href=https://colab.research.google.com/notebooks/data_table.ipynb>data table notebook</a>'\n",
              "            + ' to learn more about interactive tables.';\n",
              "          element.innerHTML = '';\n",
              "          dataTable['output_type'] = 'display_data';\n",
              "          await google.colab.output.renderOutput(dataTable, element);\n",
              "          const docLink = document.createElement('div');\n",
              "          docLink.innerHTML = docLinkHtml;\n",
              "          element.appendChild(docLink);\n",
              "        }\n",
              "      </script>\n",
              "    </div>\n",
              "  </div>\n",
              "  "
            ],
            "text/plain": [
              "                         data  ...  temEstadoBR\n",
              "93   2021-10-12T04:34:34.519Z  ...            0\n",
              "94   2021-10-02T12:52:33.664Z  ...            0\n",
              "98   2021-09-27T21:52:31.489Z  ...            0\n",
              "121  2021-09-03T16:29:06.750Z  ...            0\n",
              "130  2021-08-22T08:28:10.896Z  ...            0\n",
              "206  2021-05-18T15:20:56.712Z  ...            0\n",
              "219  2021-05-08T11:55:29.739Z  ...            0\n",
              "239  2021-04-11T04:21:02.674Z  ...            0\n",
              "306  2021-01-29T15:46:07.125Z  ...            0\n",
              "322  2021-01-09T15:39:11.687Z  ...            0\n",
              "\n",
              "[10 rows x 6 columns]"
            ]
          },
          "metadata": {},
          "execution_count": 12
        }
      ]
    },
    {
      "cell_type": "markdown",
      "source": [
        "Vou excluir as linhas que contém as regiões do Uruguai, Bolívia e Argentina e investigar as linhas que contém a região de fronteira com o Peru."
      ],
      "metadata": {
        "id": "OEJbnk3LgMOG"
      }
    },
    {
      "cell_type": "code",
      "source": [
        "df_uterremotos.drop(df_uterremotos.loc[df_uterremotos['regiao']=='Central Bolivia'].index, inplace=True)\n",
        "df_uterremotos.drop(df_uterremotos.loc[df_uterremotos['regiao']=='Uruguay'].index, inplace=True)\n",
        "df_uterremotos.drop(df_uterremotos.loc[df_uterremotos['regiao']=='Northeastern Argentina'].index, inplace=True)"
      ],
      "metadata": {
        "id": "3AVIOYrrgLV-"
      },
      "execution_count": null,
      "outputs": []
    },
    {
      "cell_type": "code",
      "source": [
        "df_semEstados = df_uterremotos.loc[df_uterremotos.temEstadoBR == 0]\n",
        "df_semEstados.head(10)"
      ],
      "metadata": {
        "colab": {
          "base_uri": "https://localhost:8080/",
          "height": 269
        },
        "id": "2VREXEwngmP-",
        "outputId": "de46a589-c8b6-47a1-e9cd-127f77658b67"
      },
      "execution_count": null,
      "outputs": [
        {
          "output_type": "execute_result",
          "data": {
            "text/html": [
              "\n",
              "  <div id=\"df-416dd384-0ab5-4a5c-8790-8b4c88f62f7b\">\n",
              "    <div class=\"colab-df-container\">\n",
              "      <div>\n",
              "<style scoped>\n",
              "    .dataframe tbody tr th:only-of-type {\n",
              "        vertical-align: middle;\n",
              "    }\n",
              "\n",
              "    .dataframe tbody tr th {\n",
              "        vertical-align: top;\n",
              "    }\n",
              "\n",
              "    .dataframe thead th {\n",
              "        text-align: right;\n",
              "    }\n",
              "</style>\n",
              "<table border=\"1\" class=\"dataframe\">\n",
              "  <thead>\n",
              "    <tr style=\"text-align: right;\">\n",
              "      <th></th>\n",
              "      <th>data</th>\n",
              "      <th>longitude</th>\n",
              "      <th>latitude</th>\n",
              "      <th>magnitude</th>\n",
              "      <th>regiao</th>\n",
              "      <th>temEstadoBR</th>\n",
              "    </tr>\n",
              "  </thead>\n",
              "  <tbody>\n",
              "    <tr>\n",
              "      <th>93</th>\n",
              "      <td>2021-10-12T04:34:34.519Z</td>\n",
              "      <td>-71313</td>\n",
              "      <td>-9599</td>\n",
              "      <td>4.3</td>\n",
              "      <td>Peru-Brazil Border Region</td>\n",
              "      <td>0</td>\n",
              "    </tr>\n",
              "    <tr>\n",
              "      <th>94</th>\n",
              "      <td>2021-10-02T12:52:33.664Z</td>\n",
              "      <td>-71204</td>\n",
              "      <td>-9569</td>\n",
              "      <td>5.9</td>\n",
              "      <td>Peru-Brazil Border Region</td>\n",
              "      <td>0</td>\n",
              "    </tr>\n",
              "    <tr>\n",
              "      <th>98</th>\n",
              "      <td>2021-09-27T21:52:31.489Z</td>\n",
              "      <td>-72667</td>\n",
              "      <td>-6805</td>\n",
              "      <td>4.3</td>\n",
              "      <td>Peru-Brazil Border Region</td>\n",
              "      <td>0</td>\n",
              "    </tr>\n",
              "    <tr>\n",
              "      <th>130</th>\n",
              "      <td>2021-08-22T08:28:10.896Z</td>\n",
              "      <td>-74186</td>\n",
              "      <td>-8328</td>\n",
              "      <td>5.0</td>\n",
              "      <td>Peru-Brazil Border Region</td>\n",
              "      <td>0</td>\n",
              "    </tr>\n",
              "    <tr>\n",
              "      <th>206</th>\n",
              "      <td>2021-05-18T15:20:56.712Z</td>\n",
              "      <td>-72573</td>\n",
              "      <td>-8503</td>\n",
              "      <td>4.1</td>\n",
              "      <td>Peru-Brazil Border Region</td>\n",
              "      <td>0</td>\n",
              "    </tr>\n",
              "    <tr>\n",
              "      <th>239</th>\n",
              "      <td>2021-04-11T04:21:02.674Z</td>\n",
              "      <td>-71304</td>\n",
              "      <td>-9243</td>\n",
              "      <td>4.3</td>\n",
              "      <td>Peru-Brazil Border Region</td>\n",
              "      <td>0</td>\n",
              "    </tr>\n",
              "    <tr>\n",
              "      <th>306</th>\n",
              "      <td>2021-01-29T15:46:07.125Z</td>\n",
              "      <td>-74135</td>\n",
              "      <td>-8490</td>\n",
              "      <td>4.2</td>\n",
              "      <td>Peru-Brazil Border Region</td>\n",
              "      <td>0</td>\n",
              "    </tr>\n",
              "  </tbody>\n",
              "</table>\n",
              "</div>\n",
              "      <button class=\"colab-df-convert\" onclick=\"convertToInteractive('df-416dd384-0ab5-4a5c-8790-8b4c88f62f7b')\"\n",
              "              title=\"Convert this dataframe to an interactive table.\"\n",
              "              style=\"display:none;\">\n",
              "        \n",
              "  <svg xmlns=\"http://www.w3.org/2000/svg\" height=\"24px\"viewBox=\"0 0 24 24\"\n",
              "       width=\"24px\">\n",
              "    <path d=\"M0 0h24v24H0V0z\" fill=\"none\"/>\n",
              "    <path d=\"M18.56 5.44l.94 2.06.94-2.06 2.06-.94-2.06-.94-.94-2.06-.94 2.06-2.06.94zm-11 1L8.5 8.5l.94-2.06 2.06-.94-2.06-.94L8.5 2.5l-.94 2.06-2.06.94zm10 10l.94 2.06.94-2.06 2.06-.94-2.06-.94-.94-2.06-.94 2.06-2.06.94z\"/><path d=\"M17.41 7.96l-1.37-1.37c-.4-.4-.92-.59-1.43-.59-.52 0-1.04.2-1.43.59L10.3 9.45l-7.72 7.72c-.78.78-.78 2.05 0 2.83L4 21.41c.39.39.9.59 1.41.59.51 0 1.02-.2 1.41-.59l7.78-7.78 2.81-2.81c.8-.78.8-2.07 0-2.86zM5.41 20L4 18.59l7.72-7.72 1.47 1.35L5.41 20z\"/>\n",
              "  </svg>\n",
              "      </button>\n",
              "      \n",
              "  <style>\n",
              "    .colab-df-container {\n",
              "      display:flex;\n",
              "      flex-wrap:wrap;\n",
              "      gap: 12px;\n",
              "    }\n",
              "\n",
              "    .colab-df-convert {\n",
              "      background-color: #E8F0FE;\n",
              "      border: none;\n",
              "      border-radius: 50%;\n",
              "      cursor: pointer;\n",
              "      display: none;\n",
              "      fill: #1967D2;\n",
              "      height: 32px;\n",
              "      padding: 0 0 0 0;\n",
              "      width: 32px;\n",
              "    }\n",
              "\n",
              "    .colab-df-convert:hover {\n",
              "      background-color: #E2EBFA;\n",
              "      box-shadow: 0px 1px 2px rgba(60, 64, 67, 0.3), 0px 1px 3px 1px rgba(60, 64, 67, 0.15);\n",
              "      fill: #174EA6;\n",
              "    }\n",
              "\n",
              "    [theme=dark] .colab-df-convert {\n",
              "      background-color: #3B4455;\n",
              "      fill: #D2E3FC;\n",
              "    }\n",
              "\n",
              "    [theme=dark] .colab-df-convert:hover {\n",
              "      background-color: #434B5C;\n",
              "      box-shadow: 0px 1px 3px 1px rgba(0, 0, 0, 0.15);\n",
              "      filter: drop-shadow(0px 1px 2px rgba(0, 0, 0, 0.3));\n",
              "      fill: #FFFFFF;\n",
              "    }\n",
              "  </style>\n",
              "\n",
              "      <script>\n",
              "        const buttonEl =\n",
              "          document.querySelector('#df-416dd384-0ab5-4a5c-8790-8b4c88f62f7b button.colab-df-convert');\n",
              "        buttonEl.style.display =\n",
              "          google.colab.kernel.accessAllowed ? 'block' : 'none';\n",
              "\n",
              "        async function convertToInteractive(key) {\n",
              "          const element = document.querySelector('#df-416dd384-0ab5-4a5c-8790-8b4c88f62f7b');\n",
              "          const dataTable =\n",
              "            await google.colab.kernel.invokeFunction('convertToInteractive',\n",
              "                                                     [key], {});\n",
              "          if (!dataTable) return;\n",
              "\n",
              "          const docLinkHtml = 'Like what you see? Visit the ' +\n",
              "            '<a target=\"_blank\" href=https://colab.research.google.com/notebooks/data_table.ipynb>data table notebook</a>'\n",
              "            + ' to learn more about interactive tables.';\n",
              "          element.innerHTML = '';\n",
              "          dataTable['output_type'] = 'display_data';\n",
              "          await google.colab.output.renderOutput(dataTable, element);\n",
              "          const docLink = document.createElement('div');\n",
              "          docLink.innerHTML = docLinkHtml;\n",
              "          element.appendChild(docLink);\n",
              "        }\n",
              "      </script>\n",
              "    </div>\n",
              "  </div>\n",
              "  "
            ],
            "text/plain": [
              "                         data  ...  temEstadoBR\n",
              "93   2021-10-12T04:34:34.519Z  ...            0\n",
              "94   2021-10-02T12:52:33.664Z  ...            0\n",
              "98   2021-09-27T21:52:31.489Z  ...            0\n",
              "130  2021-08-22T08:28:10.896Z  ...            0\n",
              "206  2021-05-18T15:20:56.712Z  ...            0\n",
              "239  2021-04-11T04:21:02.674Z  ...            0\n",
              "306  2021-01-29T15:46:07.125Z  ...            0\n",
              "\n",
              "[7 rows x 6 columns]"
            ]
          },
          "metadata": {},
          "execution_count": 14
        }
      ]
    },
    {
      "cell_type": "markdown",
      "source": [
        "Vou verificar se as coordenadas que sobraram estão dentro do Brasil, pois só vou considerar os terremotos com epicentro no Brasil."
      ],
      "metadata": {
        "id": "ZnN1cFThvMdE"
      }
    },
    {
      "cell_type": "code",
      "source": [
        "!pip install geopandas\n",
        "!pip install shapely"
      ],
      "metadata": {
        "id": "YKTvscP3vXtv"
      },
      "execution_count": null,
      "outputs": []
    },
    {
      "cell_type": "code",
      "source": [
        "import geopandas as gpd\n",
        "from shapely.geometry import Point, Polygon"
      ],
      "metadata": {
        "id": "S_qkB6DFhEum"
      },
      "execution_count": null,
      "outputs": []
    },
    {
      "cell_type": "code",
      "source": [
        "gpd.io.file.fiona.drvsupport.supported_drivers['KML'] = 'rw'\n",
        "meu_mapa = gpd.read_file('/content/drive/MyDrive/ANÁLISES DE DADOS/Terremotos/KML BRASIL/SEPARACAO POR REGIA/Norte.kml', driver='KML')\n",
        "meu_mapa"
      ],
      "metadata": {
        "id": "RYkQruirvhkY"
      },
      "execution_count": null,
      "outputs": []
    },
    {
      "cell_type": "code",
      "source": [
        "df_semEstados['longitude'] = df_semEstados['longitude']/1000\n",
        "df_semEstados['latitude'] = df_semEstados['latitude']/1000"
      ],
      "metadata": {
        "id": "WcH4j8el6Eoz"
      },
      "execution_count": null,
      "outputs": []
    },
    {
      "cell_type": "code",
      "source": [
        "pontos_geometricos = []\n",
        "for xy in zip(df_semEstados['longitude'], df_semEstados['latitude']):\n",
        "    pontos_geometricos.append(Point(xy))"
      ],
      "metadata": {
        "id": "A1dqJZN1v5p8"
      },
      "execution_count": null,
      "outputs": []
    },
    {
      "cell_type": "code",
      "source": [
        "localizacoes_geo = gpd.GeoDataFrame(df_semEstados,\n",
        "                                    crs = {'init': 'epsg:4326'},\n",
        "                                    geometry = pontos_geometricos)\n",
        "localizacoes_geo = localizacoes_geo.reset_index()\n",
        "localizacoes_geo"
      ],
      "metadata": {
        "colab": {
          "base_uri": "https://localhost:8080/",
          "height": 269
        },
        "id": "u5sQmbLFw5u3",
        "outputId": "ae17321b-e488-4821-813d-182af528810a"
      },
      "execution_count": null,
      "outputs": [
        {
          "output_type": "execute_result",
          "data": {
            "text/html": [
              "\n",
              "  <div id=\"df-5fe2a51d-23df-497a-9cf7-b54ebb2a2626\">\n",
              "    <div class=\"colab-df-container\">\n",
              "      <div>\n",
              "<style scoped>\n",
              "    .dataframe tbody tr th:only-of-type {\n",
              "        vertical-align: middle;\n",
              "    }\n",
              "\n",
              "    .dataframe tbody tr th {\n",
              "        vertical-align: top;\n",
              "    }\n",
              "\n",
              "    .dataframe thead th {\n",
              "        text-align: right;\n",
              "    }\n",
              "</style>\n",
              "<table border=\"1\" class=\"dataframe\">\n",
              "  <thead>\n",
              "    <tr style=\"text-align: right;\">\n",
              "      <th></th>\n",
              "      <th>index</th>\n",
              "      <th>data</th>\n",
              "      <th>longitude</th>\n",
              "      <th>latitude</th>\n",
              "      <th>magnitude</th>\n",
              "      <th>regiao</th>\n",
              "      <th>temEstadoBR</th>\n",
              "      <th>geometry</th>\n",
              "    </tr>\n",
              "  </thead>\n",
              "  <tbody>\n",
              "    <tr>\n",
              "      <th>0</th>\n",
              "      <td>93</td>\n",
              "      <td>2021-10-12T04:34:34.519Z</td>\n",
              "      <td>-71.313</td>\n",
              "      <td>-9.599</td>\n",
              "      <td>4.3</td>\n",
              "      <td>Peru-Brazil Border Region</td>\n",
              "      <td>0</td>\n",
              "      <td>POINT (-71.31300 -9.59900)</td>\n",
              "    </tr>\n",
              "    <tr>\n",
              "      <th>1</th>\n",
              "      <td>94</td>\n",
              "      <td>2021-10-02T12:52:33.664Z</td>\n",
              "      <td>-71.204</td>\n",
              "      <td>-9.569</td>\n",
              "      <td>5.9</td>\n",
              "      <td>Peru-Brazil Border Region</td>\n",
              "      <td>0</td>\n",
              "      <td>POINT (-71.20400 -9.56900)</td>\n",
              "    </tr>\n",
              "    <tr>\n",
              "      <th>2</th>\n",
              "      <td>98</td>\n",
              "      <td>2021-09-27T21:52:31.489Z</td>\n",
              "      <td>-72.667</td>\n",
              "      <td>-6.805</td>\n",
              "      <td>4.3</td>\n",
              "      <td>Peru-Brazil Border Region</td>\n",
              "      <td>0</td>\n",
              "      <td>POINT (-72.66700 -6.80500)</td>\n",
              "    </tr>\n",
              "    <tr>\n",
              "      <th>3</th>\n",
              "      <td>130</td>\n",
              "      <td>2021-08-22T08:28:10.896Z</td>\n",
              "      <td>-74.186</td>\n",
              "      <td>-8.328</td>\n",
              "      <td>5.0</td>\n",
              "      <td>Peru-Brazil Border Region</td>\n",
              "      <td>0</td>\n",
              "      <td>POINT (-74.18600 -8.32800)</td>\n",
              "    </tr>\n",
              "    <tr>\n",
              "      <th>4</th>\n",
              "      <td>206</td>\n",
              "      <td>2021-05-18T15:20:56.712Z</td>\n",
              "      <td>-72.573</td>\n",
              "      <td>-8.503</td>\n",
              "      <td>4.1</td>\n",
              "      <td>Peru-Brazil Border Region</td>\n",
              "      <td>0</td>\n",
              "      <td>POINT (-72.57300 -8.50300)</td>\n",
              "    </tr>\n",
              "    <tr>\n",
              "      <th>5</th>\n",
              "      <td>239</td>\n",
              "      <td>2021-04-11T04:21:02.674Z</td>\n",
              "      <td>-71.304</td>\n",
              "      <td>-9.243</td>\n",
              "      <td>4.3</td>\n",
              "      <td>Peru-Brazil Border Region</td>\n",
              "      <td>0</td>\n",
              "      <td>POINT (-71.30400 -9.24300)</td>\n",
              "    </tr>\n",
              "    <tr>\n",
              "      <th>6</th>\n",
              "      <td>306</td>\n",
              "      <td>2021-01-29T15:46:07.125Z</td>\n",
              "      <td>-74.135</td>\n",
              "      <td>-8.490</td>\n",
              "      <td>4.2</td>\n",
              "      <td>Peru-Brazil Border Region</td>\n",
              "      <td>0</td>\n",
              "      <td>POINT (-74.13500 -8.49000)</td>\n",
              "    </tr>\n",
              "  </tbody>\n",
              "</table>\n",
              "</div>\n",
              "      <button class=\"colab-df-convert\" onclick=\"convertToInteractive('df-5fe2a51d-23df-497a-9cf7-b54ebb2a2626')\"\n",
              "              title=\"Convert this dataframe to an interactive table.\"\n",
              "              style=\"display:none;\">\n",
              "        \n",
              "  <svg xmlns=\"http://www.w3.org/2000/svg\" height=\"24px\"viewBox=\"0 0 24 24\"\n",
              "       width=\"24px\">\n",
              "    <path d=\"M0 0h24v24H0V0z\" fill=\"none\"/>\n",
              "    <path d=\"M18.56 5.44l.94 2.06.94-2.06 2.06-.94-2.06-.94-.94-2.06-.94 2.06-2.06.94zm-11 1L8.5 8.5l.94-2.06 2.06-.94-2.06-.94L8.5 2.5l-.94 2.06-2.06.94zm10 10l.94 2.06.94-2.06 2.06-.94-2.06-.94-.94-2.06-.94 2.06-2.06.94z\"/><path d=\"M17.41 7.96l-1.37-1.37c-.4-.4-.92-.59-1.43-.59-.52 0-1.04.2-1.43.59L10.3 9.45l-7.72 7.72c-.78.78-.78 2.05 0 2.83L4 21.41c.39.39.9.59 1.41.59.51 0 1.02-.2 1.41-.59l7.78-7.78 2.81-2.81c.8-.78.8-2.07 0-2.86zM5.41 20L4 18.59l7.72-7.72 1.47 1.35L5.41 20z\"/>\n",
              "  </svg>\n",
              "      </button>\n",
              "      \n",
              "  <style>\n",
              "    .colab-df-container {\n",
              "      display:flex;\n",
              "      flex-wrap:wrap;\n",
              "      gap: 12px;\n",
              "    }\n",
              "\n",
              "    .colab-df-convert {\n",
              "      background-color: #E8F0FE;\n",
              "      border: none;\n",
              "      border-radius: 50%;\n",
              "      cursor: pointer;\n",
              "      display: none;\n",
              "      fill: #1967D2;\n",
              "      height: 32px;\n",
              "      padding: 0 0 0 0;\n",
              "      width: 32px;\n",
              "    }\n",
              "\n",
              "    .colab-df-convert:hover {\n",
              "      background-color: #E2EBFA;\n",
              "      box-shadow: 0px 1px 2px rgba(60, 64, 67, 0.3), 0px 1px 3px 1px rgba(60, 64, 67, 0.15);\n",
              "      fill: #174EA6;\n",
              "    }\n",
              "\n",
              "    [theme=dark] .colab-df-convert {\n",
              "      background-color: #3B4455;\n",
              "      fill: #D2E3FC;\n",
              "    }\n",
              "\n",
              "    [theme=dark] .colab-df-convert:hover {\n",
              "      background-color: #434B5C;\n",
              "      box-shadow: 0px 1px 3px 1px rgba(0, 0, 0, 0.15);\n",
              "      filter: drop-shadow(0px 1px 2px rgba(0, 0, 0, 0.3));\n",
              "      fill: #FFFFFF;\n",
              "    }\n",
              "  </style>\n",
              "\n",
              "      <script>\n",
              "        const buttonEl =\n",
              "          document.querySelector('#df-5fe2a51d-23df-497a-9cf7-b54ebb2a2626 button.colab-df-convert');\n",
              "        buttonEl.style.display =\n",
              "          google.colab.kernel.accessAllowed ? 'block' : 'none';\n",
              "\n",
              "        async function convertToInteractive(key) {\n",
              "          const element = document.querySelector('#df-5fe2a51d-23df-497a-9cf7-b54ebb2a2626');\n",
              "          const dataTable =\n",
              "            await google.colab.kernel.invokeFunction('convertToInteractive',\n",
              "                                                     [key], {});\n",
              "          if (!dataTable) return;\n",
              "\n",
              "          const docLinkHtml = 'Like what you see? Visit the ' +\n",
              "            '<a target=\"_blank\" href=https://colab.research.google.com/notebooks/data_table.ipynb>data table notebook</a>'\n",
              "            + ' to learn more about interactive tables.';\n",
              "          element.innerHTML = '';\n",
              "          dataTable['output_type'] = 'display_data';\n",
              "          await google.colab.output.renderOutput(dataTable, element);\n",
              "          const docLink = document.createElement('div');\n",
              "          docLink.innerHTML = docLinkHtml;\n",
              "          element.appendChild(docLink);\n",
              "        }\n",
              "      </script>\n",
              "    </div>\n",
              "  </div>\n",
              "  "
            ],
            "text/plain": [
              "   index                      data  ...  temEstadoBR                    geometry\n",
              "0     93  2021-10-12T04:34:34.519Z  ...            0  POINT (-71.31300 -9.59900)\n",
              "1     94  2021-10-02T12:52:33.664Z  ...            0  POINT (-71.20400 -9.56900)\n",
              "2     98  2021-09-27T21:52:31.489Z  ...            0  POINT (-72.66700 -6.80500)\n",
              "3    130  2021-08-22T08:28:10.896Z  ...            0  POINT (-74.18600 -8.32800)\n",
              "4    206  2021-05-18T15:20:56.712Z  ...            0  POINT (-72.57300 -8.50300)\n",
              "5    239  2021-04-11T04:21:02.674Z  ...            0  POINT (-71.30400 -9.24300)\n",
              "6    306  2021-01-29T15:46:07.125Z  ...            0  POINT (-74.13500 -8.49000)\n",
              "\n",
              "[7 rows x 8 columns]"
            ]
          },
          "metadata": {},
          "execution_count": 20
        }
      ]
    },
    {
      "cell_type": "markdown",
      "source": [
        "Verificando se os pontos pertencem à Região Norte, que faz fronteira com o Peru."
      ],
      "metadata": {
        "id": "Y1Oo-K4KyEk8"
      }
    },
    {
      "cell_type": "code",
      "source": [
        "def pertence_ao_Norte(df):\n",
        "  ''' Verifica se a coordenada pertence à RegiãoNorte '''\n",
        "  ponto = df.geometry\n",
        "  check = meu_mapa.contains(ponto).values\n",
        "  contTrue = 0;\n",
        "  for valor in check:\n",
        "    if valor == True:\n",
        "      contTrue += 1\n",
        "  if contTrue > 0:\n",
        "    return 1\n",
        "  else:\n",
        "    return 0"
      ],
      "metadata": {
        "id": "EtNJK3wpzJku"
      },
      "execution_count": null,
      "outputs": []
    },
    {
      "cell_type": "code",
      "source": [
        "localizacoes_geo[\"pertence_ao_mapa\"] = localizacoes_geo.apply(pertence_ao_Norte, axis=1)"
      ],
      "metadata": {
        "id": "8P2ufka_yUMM"
      },
      "execution_count": null,
      "outputs": []
    },
    {
      "cell_type": "code",
      "source": [
        "localizacoes_geo.head(10)"
      ],
      "metadata": {
        "colab": {
          "base_uri": "https://localhost:8080/",
          "height": 269
        },
        "id": "FavgqAEwz37P",
        "outputId": "6032ab43-6b10-42b1-e9cd-8fff8f5c2abd"
      },
      "execution_count": null,
      "outputs": [
        {
          "output_type": "execute_result",
          "data": {
            "text/html": [
              "\n",
              "  <div id=\"df-b0b82ffc-9f0b-41f4-8011-e67d495c7f8e\">\n",
              "    <div class=\"colab-df-container\">\n",
              "      <div>\n",
              "<style scoped>\n",
              "    .dataframe tbody tr th:only-of-type {\n",
              "        vertical-align: middle;\n",
              "    }\n",
              "\n",
              "    .dataframe tbody tr th {\n",
              "        vertical-align: top;\n",
              "    }\n",
              "\n",
              "    .dataframe thead th {\n",
              "        text-align: right;\n",
              "    }\n",
              "</style>\n",
              "<table border=\"1\" class=\"dataframe\">\n",
              "  <thead>\n",
              "    <tr style=\"text-align: right;\">\n",
              "      <th></th>\n",
              "      <th>index</th>\n",
              "      <th>data</th>\n",
              "      <th>longitude</th>\n",
              "      <th>latitude</th>\n",
              "      <th>magnitude</th>\n",
              "      <th>regiao</th>\n",
              "      <th>temEstadoBR</th>\n",
              "      <th>geometry</th>\n",
              "      <th>pertence_ao_mapa</th>\n",
              "    </tr>\n",
              "  </thead>\n",
              "  <tbody>\n",
              "    <tr>\n",
              "      <th>0</th>\n",
              "      <td>93</td>\n",
              "      <td>2021-10-12T04:34:34.519Z</td>\n",
              "      <td>-71.313</td>\n",
              "      <td>-9.599</td>\n",
              "      <td>4.3</td>\n",
              "      <td>Peru-Brazil Border Region</td>\n",
              "      <td>0</td>\n",
              "      <td>POINT (-71.31300 -9.59900)</td>\n",
              "      <td>1</td>\n",
              "    </tr>\n",
              "    <tr>\n",
              "      <th>1</th>\n",
              "      <td>94</td>\n",
              "      <td>2021-10-02T12:52:33.664Z</td>\n",
              "      <td>-71.204</td>\n",
              "      <td>-9.569</td>\n",
              "      <td>5.9</td>\n",
              "      <td>Peru-Brazil Border Region</td>\n",
              "      <td>0</td>\n",
              "      <td>POINT (-71.20400 -9.56900)</td>\n",
              "      <td>1</td>\n",
              "    </tr>\n",
              "    <tr>\n",
              "      <th>2</th>\n",
              "      <td>98</td>\n",
              "      <td>2021-09-27T21:52:31.489Z</td>\n",
              "      <td>-72.667</td>\n",
              "      <td>-6.805</td>\n",
              "      <td>4.3</td>\n",
              "      <td>Peru-Brazil Border Region</td>\n",
              "      <td>0</td>\n",
              "      <td>POINT (-72.66700 -6.80500)</td>\n",
              "      <td>1</td>\n",
              "    </tr>\n",
              "    <tr>\n",
              "      <th>3</th>\n",
              "      <td>130</td>\n",
              "      <td>2021-08-22T08:28:10.896Z</td>\n",
              "      <td>-74.186</td>\n",
              "      <td>-8.328</td>\n",
              "      <td>5.0</td>\n",
              "      <td>Peru-Brazil Border Region</td>\n",
              "      <td>0</td>\n",
              "      <td>POINT (-74.18600 -8.32800)</td>\n",
              "      <td>0</td>\n",
              "    </tr>\n",
              "    <tr>\n",
              "      <th>4</th>\n",
              "      <td>206</td>\n",
              "      <td>2021-05-18T15:20:56.712Z</td>\n",
              "      <td>-72.573</td>\n",
              "      <td>-8.503</td>\n",
              "      <td>4.1</td>\n",
              "      <td>Peru-Brazil Border Region</td>\n",
              "      <td>0</td>\n",
              "      <td>POINT (-72.57300 -8.50300)</td>\n",
              "      <td>1</td>\n",
              "    </tr>\n",
              "    <tr>\n",
              "      <th>5</th>\n",
              "      <td>239</td>\n",
              "      <td>2021-04-11T04:21:02.674Z</td>\n",
              "      <td>-71.304</td>\n",
              "      <td>-9.243</td>\n",
              "      <td>4.3</td>\n",
              "      <td>Peru-Brazil Border Region</td>\n",
              "      <td>0</td>\n",
              "      <td>POINT (-71.30400 -9.24300)</td>\n",
              "      <td>1</td>\n",
              "    </tr>\n",
              "    <tr>\n",
              "      <th>6</th>\n",
              "      <td>306</td>\n",
              "      <td>2021-01-29T15:46:07.125Z</td>\n",
              "      <td>-74.135</td>\n",
              "      <td>-8.490</td>\n",
              "      <td>4.2</td>\n",
              "      <td>Peru-Brazil Border Region</td>\n",
              "      <td>0</td>\n",
              "      <td>POINT (-74.13500 -8.49000)</td>\n",
              "      <td>0</td>\n",
              "    </tr>\n",
              "  </tbody>\n",
              "</table>\n",
              "</div>\n",
              "      <button class=\"colab-df-convert\" onclick=\"convertToInteractive('df-b0b82ffc-9f0b-41f4-8011-e67d495c7f8e')\"\n",
              "              title=\"Convert this dataframe to an interactive table.\"\n",
              "              style=\"display:none;\">\n",
              "        \n",
              "  <svg xmlns=\"http://www.w3.org/2000/svg\" height=\"24px\"viewBox=\"0 0 24 24\"\n",
              "       width=\"24px\">\n",
              "    <path d=\"M0 0h24v24H0V0z\" fill=\"none\"/>\n",
              "    <path d=\"M18.56 5.44l.94 2.06.94-2.06 2.06-.94-2.06-.94-.94-2.06-.94 2.06-2.06.94zm-11 1L8.5 8.5l.94-2.06 2.06-.94-2.06-.94L8.5 2.5l-.94 2.06-2.06.94zm10 10l.94 2.06.94-2.06 2.06-.94-2.06-.94-.94-2.06-.94 2.06-2.06.94z\"/><path d=\"M17.41 7.96l-1.37-1.37c-.4-.4-.92-.59-1.43-.59-.52 0-1.04.2-1.43.59L10.3 9.45l-7.72 7.72c-.78.78-.78 2.05 0 2.83L4 21.41c.39.39.9.59 1.41.59.51 0 1.02-.2 1.41-.59l7.78-7.78 2.81-2.81c.8-.78.8-2.07 0-2.86zM5.41 20L4 18.59l7.72-7.72 1.47 1.35L5.41 20z\"/>\n",
              "  </svg>\n",
              "      </button>\n",
              "      \n",
              "  <style>\n",
              "    .colab-df-container {\n",
              "      display:flex;\n",
              "      flex-wrap:wrap;\n",
              "      gap: 12px;\n",
              "    }\n",
              "\n",
              "    .colab-df-convert {\n",
              "      background-color: #E8F0FE;\n",
              "      border: none;\n",
              "      border-radius: 50%;\n",
              "      cursor: pointer;\n",
              "      display: none;\n",
              "      fill: #1967D2;\n",
              "      height: 32px;\n",
              "      padding: 0 0 0 0;\n",
              "      width: 32px;\n",
              "    }\n",
              "\n",
              "    .colab-df-convert:hover {\n",
              "      background-color: #E2EBFA;\n",
              "      box-shadow: 0px 1px 2px rgba(60, 64, 67, 0.3), 0px 1px 3px 1px rgba(60, 64, 67, 0.15);\n",
              "      fill: #174EA6;\n",
              "    }\n",
              "\n",
              "    [theme=dark] .colab-df-convert {\n",
              "      background-color: #3B4455;\n",
              "      fill: #D2E3FC;\n",
              "    }\n",
              "\n",
              "    [theme=dark] .colab-df-convert:hover {\n",
              "      background-color: #434B5C;\n",
              "      box-shadow: 0px 1px 3px 1px rgba(0, 0, 0, 0.15);\n",
              "      filter: drop-shadow(0px 1px 2px rgba(0, 0, 0, 0.3));\n",
              "      fill: #FFFFFF;\n",
              "    }\n",
              "  </style>\n",
              "\n",
              "      <script>\n",
              "        const buttonEl =\n",
              "          document.querySelector('#df-b0b82ffc-9f0b-41f4-8011-e67d495c7f8e button.colab-df-convert');\n",
              "        buttonEl.style.display =\n",
              "          google.colab.kernel.accessAllowed ? 'block' : 'none';\n",
              "\n",
              "        async function convertToInteractive(key) {\n",
              "          const element = document.querySelector('#df-b0b82ffc-9f0b-41f4-8011-e67d495c7f8e');\n",
              "          const dataTable =\n",
              "            await google.colab.kernel.invokeFunction('convertToInteractive',\n",
              "                                                     [key], {});\n",
              "          if (!dataTable) return;\n",
              "\n",
              "          const docLinkHtml = 'Like what you see? Visit the ' +\n",
              "            '<a target=\"_blank\" href=https://colab.research.google.com/notebooks/data_table.ipynb>data table notebook</a>'\n",
              "            + ' to learn more about interactive tables.';\n",
              "          element.innerHTML = '';\n",
              "          dataTable['output_type'] = 'display_data';\n",
              "          await google.colab.output.renderOutput(dataTable, element);\n",
              "          const docLink = document.createElement('div');\n",
              "          docLink.innerHTML = docLinkHtml;\n",
              "          element.appendChild(docLink);\n",
              "        }\n",
              "      </script>\n",
              "    </div>\n",
              "  </div>\n",
              "  "
            ],
            "text/plain": [
              "   index  ... pertence_ao_mapa\n",
              "0     93  ...                1\n",
              "1     94  ...                1\n",
              "2     98  ...                1\n",
              "3    130  ...                0\n",
              "4    206  ...                1\n",
              "5    239  ...                1\n",
              "6    306  ...                0\n",
              "\n",
              "[7 rows x 9 columns]"
            ]
          },
          "metadata": {},
          "execution_count": 23
        }
      ]
    },
    {
      "cell_type": "markdown",
      "source": [
        "Duas coordenadas não pertencem ao território brasileiro. Vendo no Mapa:"
      ],
      "metadata": {
        "id": "B5go0UUO00xA"
      }
    },
    {
      "cell_type": "code",
      "source": [
        "import folium\n",
        "import json\n",
        "fig = folium.Map(width=900, height=600)"
      ],
      "metadata": {
        "id": "eZxDo6tfz8a0"
      },
      "execution_count": null,
      "outputs": []
    },
    {
      "cell_type": "code",
      "source": [
        "geo_json_mapa = json.load(open('/content/drive/MyDrive/ANÁLISES DE DADOS/Terremotos/GeoJsonNorte/Features.geojson'))\n",
        "folium.Choropleth(\n",
        "    geo_data = geo_json_mapa,\n",
        "    fill_color = \"steelblue\",\n",
        "    fill_opacity = 0.4,\n",
        "    line_color = \"steelblue\",\n",
        "    line_opacity = 0.9\n",
        ").add_to(fig)"
      ],
      "metadata": {
        "colab": {
          "base_uri": "https://localhost:8080/"
        },
        "id": "itcaKfTn1pBd",
        "outputId": "e9698d4e-9546-4978-dede-779c496168d2"
      },
      "execution_count": null,
      "outputs": [
        {
          "output_type": "execute_result",
          "data": {
            "text/plain": [
              "<folium.features.Choropleth at 0x7f61243b9190>"
            ]
          },
          "metadata": {},
          "execution_count": 25
        }
      ]
    },
    {
      "cell_type": "code",
      "source": [
        "pontos = localizacoes_geo[['latitude', 'longitude']].values.tolist()\n",
        "map = folium.Map(location=[-8, -73], width=900, height=500, zoom_start=7)\n",
        "for point in range(0, len(pontos)):\n",
        "    folium.Marker(pontos[point], popup=localizacoes_geo['regiao'][point]).add_to(map)\n",
        "map"
      ],
      "metadata": {
        "colab": {
          "base_uri": "https://localhost:8080/",
          "height": 763
        },
        "id": "xE84A--32QxE",
        "outputId": "b17154ca-53d4-4ffa-a26a-f03144ff870b"
      },
      "execution_count": null,
      "outputs": [
        {
          "output_type": "execute_result",
          "data": {
            "text/html": [
              "<div style=\"width:100%;\"><div style=\"position:relative;width:100%;height:0;padding-bottom:60%;\"><span style=\"color:#565656\">Make this Notebook Trusted to load map: File -> Trust Notebook</span><iframe src=\"about:blank\" style=\"position:absolute;width:100%;height:100%;left:0;top:0;border:none !important;\" data-html=%3C%21DOCTYPE%20html%3E%0A%3Chead%3E%20%20%20%20%0A%20%20%20%20%3Cmeta%20http-equiv%3D%22content-type%22%20content%3D%22text/html%3B%20charset%3DUTF-8%22%20/%3E%0A%20%20%20%20%3Cscript%3EL_PREFER_CANVAS%3Dfalse%3B%20L_NO_TOUCH%3Dfalse%3B%20L_DISABLE_3D%3Dfalse%3B%3C/script%3E%0A%20%20%20%20%3Cscript%20src%3D%22https%3A//cdn.jsdelivr.net/npm/leaflet%401.4.0/dist/leaflet.js%22%3E%3C/script%3E%0A%20%20%20%20%3Cscript%20src%3D%22https%3A//code.jquery.com/jquery-1.12.4.min.js%22%3E%3C/script%3E%0A%20%20%20%20%3Cscript%20src%3D%22https%3A//maxcdn.bootstrapcdn.com/bootstrap/3.2.0/js/bootstrap.min.js%22%3E%3C/script%3E%0A%20%20%20%20%3Cscript%20src%3D%22https%3A//cdnjs.cloudflare.com/ajax/libs/Leaflet.awesome-markers/2.0.2/leaflet.awesome-markers.js%22%3E%3C/script%3E%0A%20%20%20%20%3Clink%20rel%3D%22stylesheet%22%20href%3D%22https%3A//cdn.jsdelivr.net/npm/leaflet%401.4.0/dist/leaflet.css%22/%3E%0A%20%20%20%20%3Clink%20rel%3D%22stylesheet%22%20href%3D%22https%3A//maxcdn.bootstrapcdn.com/bootstrap/3.2.0/css/bootstrap.min.css%22/%3E%0A%20%20%20%20%3Clink%20rel%3D%22stylesheet%22%20href%3D%22https%3A//maxcdn.bootstrapcdn.com/bootstrap/3.2.0/css/bootstrap-theme.min.css%22/%3E%0A%20%20%20%20%3Clink%20rel%3D%22stylesheet%22%20href%3D%22https%3A//maxcdn.bootstrapcdn.com/font-awesome/4.6.3/css/font-awesome.min.css%22/%3E%0A%20%20%20%20%3Clink%20rel%3D%22stylesheet%22%20href%3D%22https%3A//cdnjs.cloudflare.com/ajax/libs/Leaflet.awesome-markers/2.0.2/leaflet.awesome-markers.css%22/%3E%0A%20%20%20%20%3Clink%20rel%3D%22stylesheet%22%20href%3D%22https%3A//rawcdn.githack.com/python-visualization/folium/master/folium/templates/leaflet.awesome.rotate.css%22/%3E%0A%20%20%20%20%3Cstyle%3Ehtml%2C%20body%20%7Bwidth%3A%20100%25%3Bheight%3A%20100%25%3Bmargin%3A%200%3Bpadding%3A%200%3B%7D%3C/style%3E%0A%20%20%20%20%3Cstyle%3E%23map%20%7Bposition%3Aabsolute%3Btop%3A0%3Bbottom%3A0%3Bright%3A0%3Bleft%3A0%3B%7D%3C/style%3E%0A%20%20%20%20%0A%20%20%20%20%3Cmeta%20name%3D%22viewport%22%20content%3D%22width%3Ddevice-width%2C%0A%20%20%20%20%20%20%20%20initial-scale%3D1.0%2C%20maximum-scale%3D1.0%2C%20user-scalable%3Dno%22%20/%3E%0A%20%20%20%20%3Cstyle%3E%23map_57f4472fd8764ac09f8dd21ef5c24c1d%20%7B%0A%20%20%20%20%20%20%20%20position%3A%20relative%3B%0A%20%20%20%20%20%20%20%20width%3A%20900.0px%3B%0A%20%20%20%20%20%20%20%20height%3A%20500.0px%3B%0A%20%20%20%20%20%20%20%20left%3A%200.0%25%3B%0A%20%20%20%20%20%20%20%20top%3A%200.0%25%3B%0A%20%20%20%20%20%20%20%20%7D%0A%20%20%20%20%3C/style%3E%0A%3C/head%3E%0A%3Cbody%3E%20%20%20%20%0A%20%20%20%20%0A%20%20%20%20%3Cdiv%20class%3D%22folium-map%22%20id%3D%22map_57f4472fd8764ac09f8dd21ef5c24c1d%22%20%3E%3C/div%3E%0A%3C/body%3E%0A%3Cscript%3E%20%20%20%20%0A%20%20%20%20%0A%20%20%20%20%0A%20%20%20%20%20%20%20%20var%20bounds%20%3D%20null%3B%0A%20%20%20%20%0A%0A%20%20%20%20var%20map_57f4472fd8764ac09f8dd21ef5c24c1d%20%3D%20L.map%28%0A%20%20%20%20%20%20%20%20%27map_57f4472fd8764ac09f8dd21ef5c24c1d%27%2C%20%7B%0A%20%20%20%20%20%20%20%20center%3A%20%5B-8%2C%20-73%5D%2C%0A%20%20%20%20%20%20%20%20zoom%3A%207%2C%0A%20%20%20%20%20%20%20%20maxBounds%3A%20bounds%2C%0A%20%20%20%20%20%20%20%20layers%3A%20%5B%5D%2C%0A%20%20%20%20%20%20%20%20worldCopyJump%3A%20false%2C%0A%20%20%20%20%20%20%20%20crs%3A%20L.CRS.EPSG3857%2C%0A%20%20%20%20%20%20%20%20zoomControl%3A%20true%2C%0A%20%20%20%20%20%20%20%20%7D%29%3B%0A%0A%0A%20%20%20%20%0A%20%20%20%20var%20tile_layer_27fa07c0588c42f19cfa1ef3d264eee2%20%3D%20L.tileLayer%28%0A%20%20%20%20%20%20%20%20%27https%3A//%7Bs%7D.tile.openstreetmap.org/%7Bz%7D/%7Bx%7D/%7By%7D.png%27%2C%0A%20%20%20%20%20%20%20%20%7B%0A%20%20%20%20%20%20%20%20%22attribution%22%3A%20null%2C%0A%20%20%20%20%20%20%20%20%22detectRetina%22%3A%20false%2C%0A%20%20%20%20%20%20%20%20%22maxNativeZoom%22%3A%2018%2C%0A%20%20%20%20%20%20%20%20%22maxZoom%22%3A%2018%2C%0A%20%20%20%20%20%20%20%20%22minZoom%22%3A%200%2C%0A%20%20%20%20%20%20%20%20%22noWrap%22%3A%20false%2C%0A%20%20%20%20%20%20%20%20%22opacity%22%3A%201%2C%0A%20%20%20%20%20%20%20%20%22subdomains%22%3A%20%22abc%22%2C%0A%20%20%20%20%20%20%20%20%22tms%22%3A%20false%0A%7D%29.addTo%28map_57f4472fd8764ac09f8dd21ef5c24c1d%29%3B%0A%20%20%20%20%0A%20%20%20%20%20%20%20%20var%20marker_12af4fe4c91148158f7fc290f57a9503%20%3D%20L.marker%28%0A%20%20%20%20%20%20%20%20%20%20%20%20%5B-9.599%2C%20-71.313%5D%2C%0A%20%20%20%20%20%20%20%20%20%20%20%20%7B%0A%20%20%20%20%20%20%20%20%20%20%20%20%20%20%20%20icon%3A%20new%20L.Icon.Default%28%29%2C%0A%20%20%20%20%20%20%20%20%20%20%20%20%20%20%20%20%7D%0A%20%20%20%20%20%20%20%20%20%20%20%20%29.addTo%28map_57f4472fd8764ac09f8dd21ef5c24c1d%29%3B%0A%20%20%20%20%20%20%20%20%0A%20%20%20%20%0A%20%20%20%20%20%20%20%20%20%20%20%20var%20popup_06926957c44b48b4a6df65157b545c9a%20%3D%20L.popup%28%7BmaxWidth%3A%20%27100%25%27%0A%20%20%20%20%20%20%20%20%20%20%20%20%0A%20%20%20%20%20%20%20%20%20%20%20%20%7D%29%3B%0A%0A%20%20%20%20%20%20%20%20%20%20%20%20%0A%20%20%20%20%20%20%20%20%20%20%20%20%20%20%20%20var%20html_f653e47306e44c4a88f00b25c680bbbd%20%3D%20%24%28%60%3Cdiv%20id%3D%22html_f653e47306e44c4a88f00b25c680bbbd%22%20style%3D%22width%3A%20100.0%25%3B%20height%3A%20100.0%25%3B%22%3EPeru-Brazil%20Border%20Region%3C/div%3E%60%29%5B0%5D%3B%0A%20%20%20%20%20%20%20%20%20%20%20%20%20%20%20%20popup_06926957c44b48b4a6df65157b545c9a.setContent%28html_f653e47306e44c4a88f00b25c680bbbd%29%3B%0A%20%20%20%20%20%20%20%20%20%20%20%20%0A%0A%20%20%20%20%20%20%20%20%20%20%20%20marker_12af4fe4c91148158f7fc290f57a9503.bindPopup%28popup_06926957c44b48b4a6df65157b545c9a%29%0A%20%20%20%20%20%20%20%20%20%20%20%20%3B%0A%0A%20%20%20%20%20%20%20%20%20%20%20%20%0A%20%20%20%20%20%20%20%20%0A%20%20%20%20%0A%20%20%20%20%20%20%20%20var%20marker_b144a00fb3554ef5a1fa49af31c3ca72%20%3D%20L.marker%28%0A%20%20%20%20%20%20%20%20%20%20%20%20%5B-9.569%2C%20-71.204%5D%2C%0A%20%20%20%20%20%20%20%20%20%20%20%20%7B%0A%20%20%20%20%20%20%20%20%20%20%20%20%20%20%20%20icon%3A%20new%20L.Icon.Default%28%29%2C%0A%20%20%20%20%20%20%20%20%20%20%20%20%20%20%20%20%7D%0A%20%20%20%20%20%20%20%20%20%20%20%20%29.addTo%28map_57f4472fd8764ac09f8dd21ef5c24c1d%29%3B%0A%20%20%20%20%20%20%20%20%0A%20%20%20%20%0A%20%20%20%20%20%20%20%20%20%20%20%20var%20popup_de8165da793445ce81b105e8937d8915%20%3D%20L.popup%28%7BmaxWidth%3A%20%27100%25%27%0A%20%20%20%20%20%20%20%20%20%20%20%20%0A%20%20%20%20%20%20%20%20%20%20%20%20%7D%29%3B%0A%0A%20%20%20%20%20%20%20%20%20%20%20%20%0A%20%20%20%20%20%20%20%20%20%20%20%20%20%20%20%20var%20html_963cb749f3e244f78a13c6d58223d0c6%20%3D%20%24%28%60%3Cdiv%20id%3D%22html_963cb749f3e244f78a13c6d58223d0c6%22%20style%3D%22width%3A%20100.0%25%3B%20height%3A%20100.0%25%3B%22%3EPeru-Brazil%20Border%20Region%3C/div%3E%60%29%5B0%5D%3B%0A%20%20%20%20%20%20%20%20%20%20%20%20%20%20%20%20popup_de8165da793445ce81b105e8937d8915.setContent%28html_963cb749f3e244f78a13c6d58223d0c6%29%3B%0A%20%20%20%20%20%20%20%20%20%20%20%20%0A%0A%20%20%20%20%20%20%20%20%20%20%20%20marker_b144a00fb3554ef5a1fa49af31c3ca72.bindPopup%28popup_de8165da793445ce81b105e8937d8915%29%0A%20%20%20%20%20%20%20%20%20%20%20%20%3B%0A%0A%20%20%20%20%20%20%20%20%20%20%20%20%0A%20%20%20%20%20%20%20%20%0A%20%20%20%20%0A%20%20%20%20%20%20%20%20var%20marker_63aa9cfddc69465ab52736dc4a010165%20%3D%20L.marker%28%0A%20%20%20%20%20%20%20%20%20%20%20%20%5B-6.805%2C%20-72.667%5D%2C%0A%20%20%20%20%20%20%20%20%20%20%20%20%7B%0A%20%20%20%20%20%20%20%20%20%20%20%20%20%20%20%20icon%3A%20new%20L.Icon.Default%28%29%2C%0A%20%20%20%20%20%20%20%20%20%20%20%20%20%20%20%20%7D%0A%20%20%20%20%20%20%20%20%20%20%20%20%29.addTo%28map_57f4472fd8764ac09f8dd21ef5c24c1d%29%3B%0A%20%20%20%20%20%20%20%20%0A%20%20%20%20%0A%20%20%20%20%20%20%20%20%20%20%20%20var%20popup_3c8021523685426bb2d85d772dc321c6%20%3D%20L.popup%28%7BmaxWidth%3A%20%27100%25%27%0A%20%20%20%20%20%20%20%20%20%20%20%20%0A%20%20%20%20%20%20%20%20%20%20%20%20%7D%29%3B%0A%0A%20%20%20%20%20%20%20%20%20%20%20%20%0A%20%20%20%20%20%20%20%20%20%20%20%20%20%20%20%20var%20html_b74bb7a2389e44b9b8f1317ebfff7fa9%20%3D%20%24%28%60%3Cdiv%20id%3D%22html_b74bb7a2389e44b9b8f1317ebfff7fa9%22%20style%3D%22width%3A%20100.0%25%3B%20height%3A%20100.0%25%3B%22%3EPeru-Brazil%20Border%20Region%3C/div%3E%60%29%5B0%5D%3B%0A%20%20%20%20%20%20%20%20%20%20%20%20%20%20%20%20popup_3c8021523685426bb2d85d772dc321c6.setContent%28html_b74bb7a2389e44b9b8f1317ebfff7fa9%29%3B%0A%20%20%20%20%20%20%20%20%20%20%20%20%0A%0A%20%20%20%20%20%20%20%20%20%20%20%20marker_63aa9cfddc69465ab52736dc4a010165.bindPopup%28popup_3c8021523685426bb2d85d772dc321c6%29%0A%20%20%20%20%20%20%20%20%20%20%20%20%3B%0A%0A%20%20%20%20%20%20%20%20%20%20%20%20%0A%20%20%20%20%20%20%20%20%0A%20%20%20%20%0A%20%20%20%20%20%20%20%20var%20marker_470cff7acc6c41b0a0ebfe3394fb0f06%20%3D%20L.marker%28%0A%20%20%20%20%20%20%20%20%20%20%20%20%5B-8.328%2C%20-74.186%5D%2C%0A%20%20%20%20%20%20%20%20%20%20%20%20%7B%0A%20%20%20%20%20%20%20%20%20%20%20%20%20%20%20%20icon%3A%20new%20L.Icon.Default%28%29%2C%0A%20%20%20%20%20%20%20%20%20%20%20%20%20%20%20%20%7D%0A%20%20%20%20%20%20%20%20%20%20%20%20%29.addTo%28map_57f4472fd8764ac09f8dd21ef5c24c1d%29%3B%0A%20%20%20%20%20%20%20%20%0A%20%20%20%20%0A%20%20%20%20%20%20%20%20%20%20%20%20var%20popup_6ef533e1591b45668a60b9472bb773fb%20%3D%20L.popup%28%7BmaxWidth%3A%20%27100%25%27%0A%20%20%20%20%20%20%20%20%20%20%20%20%0A%20%20%20%20%20%20%20%20%20%20%20%20%7D%29%3B%0A%0A%20%20%20%20%20%20%20%20%20%20%20%20%0A%20%20%20%20%20%20%20%20%20%20%20%20%20%20%20%20var%20html_e53c71ad458a477793db8d091ea2969d%20%3D%20%24%28%60%3Cdiv%20id%3D%22html_e53c71ad458a477793db8d091ea2969d%22%20style%3D%22width%3A%20100.0%25%3B%20height%3A%20100.0%25%3B%22%3EPeru-Brazil%20Border%20Region%3C/div%3E%60%29%5B0%5D%3B%0A%20%20%20%20%20%20%20%20%20%20%20%20%20%20%20%20popup_6ef533e1591b45668a60b9472bb773fb.setContent%28html_e53c71ad458a477793db8d091ea2969d%29%3B%0A%20%20%20%20%20%20%20%20%20%20%20%20%0A%0A%20%20%20%20%20%20%20%20%20%20%20%20marker_470cff7acc6c41b0a0ebfe3394fb0f06.bindPopup%28popup_6ef533e1591b45668a60b9472bb773fb%29%0A%20%20%20%20%20%20%20%20%20%20%20%20%3B%0A%0A%20%20%20%20%20%20%20%20%20%20%20%20%0A%20%20%20%20%20%20%20%20%0A%20%20%20%20%0A%20%20%20%20%20%20%20%20var%20marker_6a633439fad341fd9fa62d81fcfbb25e%20%3D%20L.marker%28%0A%20%20%20%20%20%20%20%20%20%20%20%20%5B-8.503%2C%20-72.573%5D%2C%0A%20%20%20%20%20%20%20%20%20%20%20%20%7B%0A%20%20%20%20%20%20%20%20%20%20%20%20%20%20%20%20icon%3A%20new%20L.Icon.Default%28%29%2C%0A%20%20%20%20%20%20%20%20%20%20%20%20%20%20%20%20%7D%0A%20%20%20%20%20%20%20%20%20%20%20%20%29.addTo%28map_57f4472fd8764ac09f8dd21ef5c24c1d%29%3B%0A%20%20%20%20%20%20%20%20%0A%20%20%20%20%0A%20%20%20%20%20%20%20%20%20%20%20%20var%20popup_7acc8fa45cb6420280ef82e35de741ae%20%3D%20L.popup%28%7BmaxWidth%3A%20%27100%25%27%0A%20%20%20%20%20%20%20%20%20%20%20%20%0A%20%20%20%20%20%20%20%20%20%20%20%20%7D%29%3B%0A%0A%20%20%20%20%20%20%20%20%20%20%20%20%0A%20%20%20%20%20%20%20%20%20%20%20%20%20%20%20%20var%20html_4b4ccd5591924f6c8b4cf5f87a2eaff6%20%3D%20%24%28%60%3Cdiv%20id%3D%22html_4b4ccd5591924f6c8b4cf5f87a2eaff6%22%20style%3D%22width%3A%20100.0%25%3B%20height%3A%20100.0%25%3B%22%3EPeru-Brazil%20Border%20Region%3C/div%3E%60%29%5B0%5D%3B%0A%20%20%20%20%20%20%20%20%20%20%20%20%20%20%20%20popup_7acc8fa45cb6420280ef82e35de741ae.setContent%28html_4b4ccd5591924f6c8b4cf5f87a2eaff6%29%3B%0A%20%20%20%20%20%20%20%20%20%20%20%20%0A%0A%20%20%20%20%20%20%20%20%20%20%20%20marker_6a633439fad341fd9fa62d81fcfbb25e.bindPopup%28popup_7acc8fa45cb6420280ef82e35de741ae%29%0A%20%20%20%20%20%20%20%20%20%20%20%20%3B%0A%0A%20%20%20%20%20%20%20%20%20%20%20%20%0A%20%20%20%20%20%20%20%20%0A%20%20%20%20%0A%20%20%20%20%20%20%20%20var%20marker_588a83eb105649b4ba5893867a644f6d%20%3D%20L.marker%28%0A%20%20%20%20%20%20%20%20%20%20%20%20%5B-9.243%2C%20-71.304%5D%2C%0A%20%20%20%20%20%20%20%20%20%20%20%20%7B%0A%20%20%20%20%20%20%20%20%20%20%20%20%20%20%20%20icon%3A%20new%20L.Icon.Default%28%29%2C%0A%20%20%20%20%20%20%20%20%20%20%20%20%20%20%20%20%7D%0A%20%20%20%20%20%20%20%20%20%20%20%20%29.addTo%28map_57f4472fd8764ac09f8dd21ef5c24c1d%29%3B%0A%20%20%20%20%20%20%20%20%0A%20%20%20%20%0A%20%20%20%20%20%20%20%20%20%20%20%20var%20popup_1f8a2040b4d6448b8984074d4b3df2c7%20%3D%20L.popup%28%7BmaxWidth%3A%20%27100%25%27%0A%20%20%20%20%20%20%20%20%20%20%20%20%0A%20%20%20%20%20%20%20%20%20%20%20%20%7D%29%3B%0A%0A%20%20%20%20%20%20%20%20%20%20%20%20%0A%20%20%20%20%20%20%20%20%20%20%20%20%20%20%20%20var%20html_c79f5e3113254fc08e7c568c8cf86101%20%3D%20%24%28%60%3Cdiv%20id%3D%22html_c79f5e3113254fc08e7c568c8cf86101%22%20style%3D%22width%3A%20100.0%25%3B%20height%3A%20100.0%25%3B%22%3EPeru-Brazil%20Border%20Region%3C/div%3E%60%29%5B0%5D%3B%0A%20%20%20%20%20%20%20%20%20%20%20%20%20%20%20%20popup_1f8a2040b4d6448b8984074d4b3df2c7.setContent%28html_c79f5e3113254fc08e7c568c8cf86101%29%3B%0A%20%20%20%20%20%20%20%20%20%20%20%20%0A%0A%20%20%20%20%20%20%20%20%20%20%20%20marker_588a83eb105649b4ba5893867a644f6d.bindPopup%28popup_1f8a2040b4d6448b8984074d4b3df2c7%29%0A%20%20%20%20%20%20%20%20%20%20%20%20%3B%0A%0A%20%20%20%20%20%20%20%20%20%20%20%20%0A%20%20%20%20%20%20%20%20%0A%20%20%20%20%0A%20%20%20%20%20%20%20%20var%20marker_d1174b8c0e2e4c0fbee73214cf12439b%20%3D%20L.marker%28%0A%20%20%20%20%20%20%20%20%20%20%20%20%5B-8.49%2C%20-74.135%5D%2C%0A%20%20%20%20%20%20%20%20%20%20%20%20%7B%0A%20%20%20%20%20%20%20%20%20%20%20%20%20%20%20%20icon%3A%20new%20L.Icon.Default%28%29%2C%0A%20%20%20%20%20%20%20%20%20%20%20%20%20%20%20%20%7D%0A%20%20%20%20%20%20%20%20%20%20%20%20%29.addTo%28map_57f4472fd8764ac09f8dd21ef5c24c1d%29%3B%0A%20%20%20%20%20%20%20%20%0A%20%20%20%20%0A%20%20%20%20%20%20%20%20%20%20%20%20var%20popup_72006498d8e64e0e8f66824af813dafc%20%3D%20L.popup%28%7BmaxWidth%3A%20%27100%25%27%0A%20%20%20%20%20%20%20%20%20%20%20%20%0A%20%20%20%20%20%20%20%20%20%20%20%20%7D%29%3B%0A%0A%20%20%20%20%20%20%20%20%20%20%20%20%0A%20%20%20%20%20%20%20%20%20%20%20%20%20%20%20%20var%20html_4eb8f7d1ebb541f9918cc3f34bfecdd3%20%3D%20%24%28%60%3Cdiv%20id%3D%22html_4eb8f7d1ebb541f9918cc3f34bfecdd3%22%20style%3D%22width%3A%20100.0%25%3B%20height%3A%20100.0%25%3B%22%3EPeru-Brazil%20Border%20Region%3C/div%3E%60%29%5B0%5D%3B%0A%20%20%20%20%20%20%20%20%20%20%20%20%20%20%20%20popup_72006498d8e64e0e8f66824af813dafc.setContent%28html_4eb8f7d1ebb541f9918cc3f34bfecdd3%29%3B%0A%20%20%20%20%20%20%20%20%20%20%20%20%0A%0A%20%20%20%20%20%20%20%20%20%20%20%20marker_d1174b8c0e2e4c0fbee73214cf12439b.bindPopup%28popup_72006498d8e64e0e8f66824af813dafc%29%0A%20%20%20%20%20%20%20%20%20%20%20%20%3B%0A%0A%20%20%20%20%20%20%20%20%20%20%20%20%0A%20%20%20%20%20%20%20%20%0A%3C/script%3E onload=\"this.contentDocument.open();this.contentDocument.write(    decodeURIComponent(this.getAttribute('data-html')));this.contentDocument.close();\" allowfullscreen webkitallowfullscreen mozallowfullscreen></iframe></div></div>"
            ],
            "text/plain": [
              "<folium.folium.Map at 0x7f6122edfbd0>"
            ]
          },
          "metadata": {},
          "execution_count": 27
        }
      ]
    },
    {
      "cell_type": "code",
      "source": [
        ""
      ],
      "metadata": {
        "id": "LnFH0nvy3ZTI"
      },
      "execution_count": null,
      "outputs": []
    }
  ]
}