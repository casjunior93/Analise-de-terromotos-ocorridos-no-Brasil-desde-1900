{
  "nbformat": 4,
  "nbformat_minor": 0,
  "metadata": {
    "colab": {
      "name": "Terremotos no Brasil.ipynb",
      "provenance": [],
      "collapsed_sections": [],
      "mount_file_id": "1v9frLK-ZxY4wD8jNK8nJ6SzJXK9D2G_a",
      "authorship_tag": "ABX9TyOQnAWrHv7GpBFRYYpt6wvh",
      "include_colab_link": true
    },
    "kernelspec": {
      "name": "python3",
      "display_name": "Python 3"
    },
    "language_info": {
      "name": "python"
    }
  },
  "cells": [
    {
      "cell_type": "markdown",
      "metadata": {
        "id": "view-in-github",
        "colab_type": "text"
      },
      "source": [
        "<a href=\"https://colab.research.google.com/github/casjunior93/Analise-de-terromotos-ocorridos-no-Brasil-desde-o-inicio-dos-registros-sismicos/blob/master/Terremotos_no_Brasil.ipynb\" target=\"_parent\"><img src=\"https://colab.research.google.com/assets/colab-badge.svg\" alt=\"Open In Colab\"/></a>"
      ]
    },
    {
      "cell_type": "markdown",
      "source": [
        "# **Análise de terromotos ocorridos no Brasil desde o início dos registros sísmicos**\n",
        "\n",
        "No dia 24/02/2022, habitantes das cidades de Espírito Santo do Pinhal-SP, Santo Antônio do Jardim-SP, São João da Boa Vista-SP, Águas da Prata-SP e Poços de Caldas-MG, relataram que houve um tremor perceptível de terra após um barulho alto parecido com um trovão.\n",
        "\n",
        "Segundo relatos, \"Houve um estrondo grande, parecido com um forte trovão\", e após houve um tremor de terra de curta duração.\n",
        "\n",
        "Atualização: Segundo o Observatório Cismológico de São Sebastião da Grama (SP), o terremoto teve magnitude 2.7 na Escala Richter e teve como epicentro a cidade de São Sebastião da Grama (SP). Fonte: https://andradas.portaldacidade.com/noticias/regiao/regiao-de-andradas-e-atingida-por-terremoto-de-magnitude-27-5909\n",
        "\n",
        "O interessante é que tal fenômeno ocorreu no centenário do maior tremor já registrado na Região Sudeste do Brasil. O \"Sismo de Pinhal\", ocorrido em 27 de janeiro de 1922, atingiu magnitude 5.1 na escala Richter. Fonte: https://portaldepinhal.com.br/2022/01/o-terremoto-que-apavorou-sp-ha-100-anos-epicentro-foi-em-espirito-santo-do-pinhal/ e https://www.youtube.com/watch?v=0qDSh68XqpY&ab_channel=DepartamentodeGeof%C3%ADsicadoIAG-USP .\n",
        "\n",
        "Tal ocorrido me motivou a fazer uma análise dos terremotos que aconteceram no Brasil, na tentativa de identificar algum padrão geográfico ou temporal. Outro fator que me motivou é que moro em Andradas-MG, que fica na região onde ocorreu o tremor desse 24 de fevereiro e cerca de 30-40 quilômetros do epicentro do sismo de 1922.\n",
        "\n",
        "Para essa análise vou usar dados da versão do Boletim Sísmico do Centro de Sismologia da USP de janeiro de 2022 (http://moho.iag.usp.br/eq/bulletin/). Como os dados do boletim vão até o final do ano de 2020, eu irei complementar os dados do boletim com os dados obtidos através da consulta à ferramenta Últimos terremotos do Centro de Sismologia da USP (http://moho.iag.usp.br/eq/latest)."
      ],
      "metadata": {
        "id": "yFNyIVntpGdq"
      }
    },
    {
      "cell_type": "markdown",
      "source": [
        "# Importando os dados\n"
      ],
      "metadata": {
        "id": "nC5mgmWPq4Jv"
      }
    },
    {
      "cell_type": "markdown",
      "source": [
        "## Bibliotecas Python"
      ],
      "metadata": {
        "id": "iDTV0SeMsyai"
      }
    },
    {
      "cell_type": "code",
      "source": [
        "import pandas as pd"
      ],
      "metadata": {
        "id": "fv8qaWmHs1yZ"
      },
      "execution_count": 42,
      "outputs": []
    },
    {
      "cell_type": "markdown",
      "source": [
        "## Dados do Centro de Sismologia da USP"
      ],
      "metadata": {
        "id": "C1SZJ4MIrD8l"
      }
    },
    {
      "cell_type": "markdown",
      "source": [
        "Dados obtidos da página Últimos terremotos (http://moho.iag.usp.br/eq/latest). Os dados são de 01 de janeiro de 2021 até 26 de fevereiro de 2022."
      ],
      "metadata": {
        "id": "ot3g-iNxrHUP"
      }
    },
    {
      "cell_type": "code",
      "execution_count": 44,
      "metadata": {
        "colab": {
          "base_uri": "https://localhost:8080/",
          "height": 206
        },
        "id": "nK70ZcLEpFXv",
        "outputId": "6d3f1ce0-d378-4a38-be32-c60f169794a3"
      },
      "outputs": [
        {
          "output_type": "execute_result",
          "data": {
            "text/html": [
              "\n",
              "  <div id=\"df-9c836591-3102-4d12-9654-3b13ca387632\">\n",
              "    <div class=\"colab-df-container\">\n",
              "      <div>\n",
              "<style scoped>\n",
              "    .dataframe tbody tr th:only-of-type {\n",
              "        vertical-align: middle;\n",
              "    }\n",
              "\n",
              "    .dataframe tbody tr th {\n",
              "        vertical-align: top;\n",
              "    }\n",
              "\n",
              "    .dataframe thead th {\n",
              "        text-align: right;\n",
              "    }\n",
              "</style>\n",
              "<table border=\"1\" class=\"dataframe\">\n",
              "  <thead>\n",
              "    <tr style=\"text-align: right;\">\n",
              "      <th></th>\n",
              "      <th>data</th>\n",
              "      <th>longitude</th>\n",
              "      <th>latitude</th>\n",
              "      <th>magnitude</th>\n",
              "      <th>regiao</th>\n",
              "    </tr>\n",
              "  </thead>\n",
              "  <tbody>\n",
              "    <tr>\n",
              "      <th>320</th>\n",
              "      <td>2021-01-17T17:12:06.21Z</td>\n",
              "      <td>-48678</td>\n",
              "      <td>-13161</td>\n",
              "      <td>3.2</td>\n",
              "      <td>Montividiu do Norte/GO</td>\n",
              "    </tr>\n",
              "    <tr>\n",
              "      <th>321</th>\n",
              "      <td>2021-01-15T22:36:37.7Z</td>\n",
              "      <td>-39380</td>\n",
              "      <td>-5129</td>\n",
              "      <td>1.9</td>\n",
              "      <td>Quixeramobim/CE</td>\n",
              "    </tr>\n",
              "    <tr>\n",
              "      <th>322</th>\n",
              "      <td>2021-01-09T15:39:11.687Z</td>\n",
              "      <td>-58422</td>\n",
              "      <td>-25434</td>\n",
              "      <td>2.2</td>\n",
              "      <td>Northeastern Argentina</td>\n",
              "    </tr>\n",
              "    <tr>\n",
              "      <th>323</th>\n",
              "      <td>2021-01-07T15:27:44.690Z</td>\n",
              "      <td>-40104</td>\n",
              "      <td>-3715</td>\n",
              "      <td>2.1</td>\n",
              "      <td>Sobral/CE</td>\n",
              "    </tr>\n",
              "    <tr>\n",
              "      <th>324</th>\n",
              "      <td>2021-01-07T02:46:29.358Z</td>\n",
              "      <td>-40318</td>\n",
              "      <td>-3540</td>\n",
              "      <td>2.2</td>\n",
              "      <td>Massape/CE</td>\n",
              "    </tr>\n",
              "  </tbody>\n",
              "</table>\n",
              "</div>\n",
              "      <button class=\"colab-df-convert\" onclick=\"convertToInteractive('df-9c836591-3102-4d12-9654-3b13ca387632')\"\n",
              "              title=\"Convert this dataframe to an interactive table.\"\n",
              "              style=\"display:none;\">\n",
              "        \n",
              "  <svg xmlns=\"http://www.w3.org/2000/svg\" height=\"24px\"viewBox=\"0 0 24 24\"\n",
              "       width=\"24px\">\n",
              "    <path d=\"M0 0h24v24H0V0z\" fill=\"none\"/>\n",
              "    <path d=\"M18.56 5.44l.94 2.06.94-2.06 2.06-.94-2.06-.94-.94-2.06-.94 2.06-2.06.94zm-11 1L8.5 8.5l.94-2.06 2.06-.94-2.06-.94L8.5 2.5l-.94 2.06-2.06.94zm10 10l.94 2.06.94-2.06 2.06-.94-2.06-.94-.94-2.06-.94 2.06-2.06.94z\"/><path d=\"M17.41 7.96l-1.37-1.37c-.4-.4-.92-.59-1.43-.59-.52 0-1.04.2-1.43.59L10.3 9.45l-7.72 7.72c-.78.78-.78 2.05 0 2.83L4 21.41c.39.39.9.59 1.41.59.51 0 1.02-.2 1.41-.59l7.78-7.78 2.81-2.81c.8-.78.8-2.07 0-2.86zM5.41 20L4 18.59l7.72-7.72 1.47 1.35L5.41 20z\"/>\n",
              "  </svg>\n",
              "      </button>\n",
              "      \n",
              "  <style>\n",
              "    .colab-df-container {\n",
              "      display:flex;\n",
              "      flex-wrap:wrap;\n",
              "      gap: 12px;\n",
              "    }\n",
              "\n",
              "    .colab-df-convert {\n",
              "      background-color: #E8F0FE;\n",
              "      border: none;\n",
              "      border-radius: 50%;\n",
              "      cursor: pointer;\n",
              "      display: none;\n",
              "      fill: #1967D2;\n",
              "      height: 32px;\n",
              "      padding: 0 0 0 0;\n",
              "      width: 32px;\n",
              "    }\n",
              "\n",
              "    .colab-df-convert:hover {\n",
              "      background-color: #E2EBFA;\n",
              "      box-shadow: 0px 1px 2px rgba(60, 64, 67, 0.3), 0px 1px 3px 1px rgba(60, 64, 67, 0.15);\n",
              "      fill: #174EA6;\n",
              "    }\n",
              "\n",
              "    [theme=dark] .colab-df-convert {\n",
              "      background-color: #3B4455;\n",
              "      fill: #D2E3FC;\n",
              "    }\n",
              "\n",
              "    [theme=dark] .colab-df-convert:hover {\n",
              "      background-color: #434B5C;\n",
              "      box-shadow: 0px 1px 3px 1px rgba(0, 0, 0, 0.15);\n",
              "      filter: drop-shadow(0px 1px 2px rgba(0, 0, 0, 0.3));\n",
              "      fill: #FFFFFF;\n",
              "    }\n",
              "  </style>\n",
              "\n",
              "      <script>\n",
              "        const buttonEl =\n",
              "          document.querySelector('#df-9c836591-3102-4d12-9654-3b13ca387632 button.colab-df-convert');\n",
              "        buttonEl.style.display =\n",
              "          google.colab.kernel.accessAllowed ? 'block' : 'none';\n",
              "\n",
              "        async function convertToInteractive(key) {\n",
              "          const element = document.querySelector('#df-9c836591-3102-4d12-9654-3b13ca387632');\n",
              "          const dataTable =\n",
              "            await google.colab.kernel.invokeFunction('convertToInteractive',\n",
              "                                                     [key], {});\n",
              "          if (!dataTable) return;\n",
              "\n",
              "          const docLinkHtml = 'Like what you see? Visit the ' +\n",
              "            '<a target=\"_blank\" href=https://colab.research.google.com/notebooks/data_table.ipynb>data table notebook</a>'\n",
              "            + ' to learn more about interactive tables.';\n",
              "          element.innerHTML = '';\n",
              "          dataTable['output_type'] = 'display_data';\n",
              "          await google.colab.output.renderOutput(dataTable, element);\n",
              "          const docLink = document.createElement('div');\n",
              "          docLink.innerHTML = docLinkHtml;\n",
              "          element.appendChild(docLink);\n",
              "        }\n",
              "      </script>\n",
              "    </div>\n",
              "  </div>\n",
              "  "
            ],
            "text/plain": [
              "                         data  longitude  ...  magnitude                  regiao\n",
              "320   2021-01-17T17:12:06.21Z     -48678  ...        3.2  Montividiu do Norte/GO\n",
              "321    2021-01-15T22:36:37.7Z     -39380  ...        1.9         Quixeramobim/CE\n",
              "322  2021-01-09T15:39:11.687Z     -58422  ...        2.2  Northeastern Argentina\n",
              "323  2021-01-07T15:27:44.690Z     -40104  ...        2.1               Sobral/CE\n",
              "324  2021-01-07T02:46:29.358Z     -40318  ...        2.2              Massape/CE\n",
              "\n",
              "[5 rows x 5 columns]"
            ]
          },
          "metadata": {},
          "execution_count": 44
        }
      ],
      "source": [
        "df_uterremotos = pd.read_csv('/content/drive/MyDrive/ANÁLISES DE DADOS/Terremotos/dados/Catalogo.csv')\n",
        "df_uterremotos.tail(5)"
      ]
    },
    {
      "cell_type": "markdown",
      "source": [
        "## Features do dataframe\n",
        "\n",
        "* `data` - Data do terremoto\n",
        "* `longitude` - Longitude do epicentro\n",
        "* `latitude` - Latitude do epicentro\n",
        "* `magnitude` - Magnitude do sismo\n",
        "* `regiao` - Região do sismo "
      ],
      "metadata": {
        "id": "jDzU4DWWwOAx"
      }
    },
    {
      "cell_type": "markdown",
      "source": [
        "### Pré-análise do dataframe"
      ],
      "metadata": {
        "id": "IVYeXr7cvVbX"
      }
    },
    {
      "cell_type": "markdown",
      "source": [
        "Análise geral do dataframe df_boletim:"
      ],
      "metadata": {
        "id": "X-Fq-AwGvdFh"
      }
    },
    {
      "cell_type": "code",
      "source": [
        "df_uterremotos.shape"
      ],
      "metadata": {
        "colab": {
          "base_uri": "https://localhost:8080/"
        },
        "id": "zIGcfPSiHTy-",
        "outputId": "ff1e4df0-6d6a-4166-95f3-4d3bbea3ab25"
      },
      "execution_count": 45,
      "outputs": [
        {
          "output_type": "execute_result",
          "data": {
            "text/plain": [
              "(325, 5)"
            ]
          },
          "metadata": {},
          "execution_count": 45
        }
      ]
    },
    {
      "cell_type": "code",
      "source": [
        "df_uterremotos.describe(include='all')"
      ],
      "metadata": {
        "colab": {
          "base_uri": "https://localhost:8080/",
          "height": 394
        },
        "id": "9msMxArDuLAY",
        "outputId": "482b8d09-bb08-4211-879c-e14072c5580e"
      },
      "execution_count": 46,
      "outputs": [
        {
          "output_type": "execute_result",
          "data": {
            "text/html": [
              "\n",
              "  <div id=\"df-1adb01d6-f78e-4ab1-8730-fa9c921ed8df\">\n",
              "    <div class=\"colab-df-container\">\n",
              "      <div>\n",
              "<style scoped>\n",
              "    .dataframe tbody tr th:only-of-type {\n",
              "        vertical-align: middle;\n",
              "    }\n",
              "\n",
              "    .dataframe tbody tr th {\n",
              "        vertical-align: top;\n",
              "    }\n",
              "\n",
              "    .dataframe thead th {\n",
              "        text-align: right;\n",
              "    }\n",
              "</style>\n",
              "<table border=\"1\" class=\"dataframe\">\n",
              "  <thead>\n",
              "    <tr style=\"text-align: right;\">\n",
              "      <th></th>\n",
              "      <th>data</th>\n",
              "      <th>longitude</th>\n",
              "      <th>latitude</th>\n",
              "      <th>magnitude</th>\n",
              "      <th>regiao</th>\n",
              "    </tr>\n",
              "  </thead>\n",
              "  <tbody>\n",
              "    <tr>\n",
              "      <th>count</th>\n",
              "      <td>325</td>\n",
              "      <td>325.000000</td>\n",
              "      <td>325.000000</td>\n",
              "      <td>325.000000</td>\n",
              "      <td>325</td>\n",
              "    </tr>\n",
              "    <tr>\n",
              "      <th>unique</th>\n",
              "      <td>325</td>\n",
              "      <td>NaN</td>\n",
              "      <td>NaN</td>\n",
              "      <td>NaN</td>\n",
              "      <td>155</td>\n",
              "    </tr>\n",
              "    <tr>\n",
              "      <th>top</th>\n",
              "      <td>2022-02-24T23:48:48.359Z</td>\n",
              "      <td>NaN</td>\n",
              "      <td>NaN</td>\n",
              "      <td>NaN</td>\n",
              "      <td>Guyana</td>\n",
              "    </tr>\n",
              "    <tr>\n",
              "      <th>freq</th>\n",
              "      <td>1</td>\n",
              "      <td>NaN</td>\n",
              "      <td>NaN</td>\n",
              "      <td>NaN</td>\n",
              "      <td>48</td>\n",
              "    </tr>\n",
              "    <tr>\n",
              "      <th>mean</th>\n",
              "      <td>NaN</td>\n",
              "      <td>-47005.858462</td>\n",
              "      <td>-9199.387692</td>\n",
              "      <td>2.503692</td>\n",
              "      <td>NaN</td>\n",
              "    </tr>\n",
              "    <tr>\n",
              "      <th>std</th>\n",
              "      <td>NaN</td>\n",
              "      <td>9665.982154</td>\n",
              "      <td>8547.957020</td>\n",
              "      <td>0.836541</td>\n",
              "      <td>NaN</td>\n",
              "    </tr>\n",
              "    <tr>\n",
              "      <th>min</th>\n",
              "      <td>NaN</td>\n",
              "      <td>-74186.000000</td>\n",
              "      <td>-33643.000000</td>\n",
              "      <td>0.900000</td>\n",
              "      <td>NaN</td>\n",
              "    </tr>\n",
              "    <tr>\n",
              "      <th>25%</th>\n",
              "      <td>NaN</td>\n",
              "      <td>-57532.000000</td>\n",
              "      <td>-17781.000000</td>\n",
              "      <td>1.900000</td>\n",
              "      <td>NaN</td>\n",
              "    </tr>\n",
              "    <tr>\n",
              "      <th>50%</th>\n",
              "      <td>NaN</td>\n",
              "      <td>-44825.000000</td>\n",
              "      <td>-8181.000000</td>\n",
              "      <td>2.300000</td>\n",
              "      <td>NaN</td>\n",
              "    </tr>\n",
              "    <tr>\n",
              "      <th>75%</th>\n",
              "      <td>NaN</td>\n",
              "      <td>-39509.000000</td>\n",
              "      <td>-3749.000000</td>\n",
              "      <td>3.000000</td>\n",
              "      <td>NaN</td>\n",
              "    </tr>\n",
              "    <tr>\n",
              "      <th>max</th>\n",
              "      <td>NaN</td>\n",
              "      <td>-34855.000000</td>\n",
              "      <td>3013.000000</td>\n",
              "      <td>5.900000</td>\n",
              "      <td>NaN</td>\n",
              "    </tr>\n",
              "  </tbody>\n",
              "</table>\n",
              "</div>\n",
              "      <button class=\"colab-df-convert\" onclick=\"convertToInteractive('df-1adb01d6-f78e-4ab1-8730-fa9c921ed8df')\"\n",
              "              title=\"Convert this dataframe to an interactive table.\"\n",
              "              style=\"display:none;\">\n",
              "        \n",
              "  <svg xmlns=\"http://www.w3.org/2000/svg\" height=\"24px\"viewBox=\"0 0 24 24\"\n",
              "       width=\"24px\">\n",
              "    <path d=\"M0 0h24v24H0V0z\" fill=\"none\"/>\n",
              "    <path d=\"M18.56 5.44l.94 2.06.94-2.06 2.06-.94-2.06-.94-.94-2.06-.94 2.06-2.06.94zm-11 1L8.5 8.5l.94-2.06 2.06-.94-2.06-.94L8.5 2.5l-.94 2.06-2.06.94zm10 10l.94 2.06.94-2.06 2.06-.94-2.06-.94-.94-2.06-.94 2.06-2.06.94z\"/><path d=\"M17.41 7.96l-1.37-1.37c-.4-.4-.92-.59-1.43-.59-.52 0-1.04.2-1.43.59L10.3 9.45l-7.72 7.72c-.78.78-.78 2.05 0 2.83L4 21.41c.39.39.9.59 1.41.59.51 0 1.02-.2 1.41-.59l7.78-7.78 2.81-2.81c.8-.78.8-2.07 0-2.86zM5.41 20L4 18.59l7.72-7.72 1.47 1.35L5.41 20z\"/>\n",
              "  </svg>\n",
              "      </button>\n",
              "      \n",
              "  <style>\n",
              "    .colab-df-container {\n",
              "      display:flex;\n",
              "      flex-wrap:wrap;\n",
              "      gap: 12px;\n",
              "    }\n",
              "\n",
              "    .colab-df-convert {\n",
              "      background-color: #E8F0FE;\n",
              "      border: none;\n",
              "      border-radius: 50%;\n",
              "      cursor: pointer;\n",
              "      display: none;\n",
              "      fill: #1967D2;\n",
              "      height: 32px;\n",
              "      padding: 0 0 0 0;\n",
              "      width: 32px;\n",
              "    }\n",
              "\n",
              "    .colab-df-convert:hover {\n",
              "      background-color: #E2EBFA;\n",
              "      box-shadow: 0px 1px 2px rgba(60, 64, 67, 0.3), 0px 1px 3px 1px rgba(60, 64, 67, 0.15);\n",
              "      fill: #174EA6;\n",
              "    }\n",
              "\n",
              "    [theme=dark] .colab-df-convert {\n",
              "      background-color: #3B4455;\n",
              "      fill: #D2E3FC;\n",
              "    }\n",
              "\n",
              "    [theme=dark] .colab-df-convert:hover {\n",
              "      background-color: #434B5C;\n",
              "      box-shadow: 0px 1px 3px 1px rgba(0, 0, 0, 0.15);\n",
              "      filter: drop-shadow(0px 1px 2px rgba(0, 0, 0, 0.3));\n",
              "      fill: #FFFFFF;\n",
              "    }\n",
              "  </style>\n",
              "\n",
              "      <script>\n",
              "        const buttonEl =\n",
              "          document.querySelector('#df-1adb01d6-f78e-4ab1-8730-fa9c921ed8df button.colab-df-convert');\n",
              "        buttonEl.style.display =\n",
              "          google.colab.kernel.accessAllowed ? 'block' : 'none';\n",
              "\n",
              "        async function convertToInteractive(key) {\n",
              "          const element = document.querySelector('#df-1adb01d6-f78e-4ab1-8730-fa9c921ed8df');\n",
              "          const dataTable =\n",
              "            await google.colab.kernel.invokeFunction('convertToInteractive',\n",
              "                                                     [key], {});\n",
              "          if (!dataTable) return;\n",
              "\n",
              "          const docLinkHtml = 'Like what you see? Visit the ' +\n",
              "            '<a target=\"_blank\" href=https://colab.research.google.com/notebooks/data_table.ipynb>data table notebook</a>'\n",
              "            + ' to learn more about interactive tables.';\n",
              "          element.innerHTML = '';\n",
              "          dataTable['output_type'] = 'display_data';\n",
              "          await google.colab.output.renderOutput(dataTable, element);\n",
              "          const docLink = document.createElement('div');\n",
              "          docLink.innerHTML = docLinkHtml;\n",
              "          element.appendChild(docLink);\n",
              "        }\n",
              "      </script>\n",
              "    </div>\n",
              "  </div>\n",
              "  "
            ],
            "text/plain": [
              "                            data     longitude  ...   magnitude  regiao\n",
              "count                        325    325.000000  ...  325.000000     325\n",
              "unique                       325           NaN  ...         NaN     155\n",
              "top     2022-02-24T23:48:48.359Z           NaN  ...         NaN  Guyana\n",
              "freq                           1           NaN  ...         NaN      48\n",
              "mean                         NaN -47005.858462  ...    2.503692     NaN\n",
              "std                          NaN   9665.982154  ...    0.836541     NaN\n",
              "min                          NaN -74186.000000  ...    0.900000     NaN\n",
              "25%                          NaN -57532.000000  ...    1.900000     NaN\n",
              "50%                          NaN -44825.000000  ...    2.300000     NaN\n",
              "75%                          NaN -39509.000000  ...    3.000000     NaN\n",
              "max                          NaN -34855.000000  ...    5.900000     NaN\n",
              "\n",
              "[11 rows x 5 columns]"
            ]
          },
          "metadata": {},
          "execution_count": 46
        }
      ]
    },
    {
      "cell_type": "markdown",
      "source": [
        "Tipo dos dados:"
      ],
      "metadata": {
        "id": "AoTC7u5xEzwM"
      }
    },
    {
      "cell_type": "code",
      "source": [
        "df_uterremotos.dtypes"
      ],
      "metadata": {
        "colab": {
          "base_uri": "https://localhost:8080/"
        },
        "id": "HMEztuZevhzF",
        "outputId": "1647e945-dbad-41cb-8a87-55d47d9d73ad"
      },
      "execution_count": 47,
      "outputs": [
        {
          "output_type": "execute_result",
          "data": {
            "text/plain": [
              "data          object\n",
              "longitude      int64\n",
              "latitude       int64\n",
              "magnitude    float64\n",
              "regiao        object\n",
              "dtype: object"
            ]
          },
          "metadata": {},
          "execution_count": 47
        }
      ]
    },
    {
      "cell_type": "markdown",
      "source": [
        "Dados faltantes:"
      ],
      "metadata": {
        "id": "O2WeX3R1PXL9"
      }
    },
    {
      "cell_type": "code",
      "source": [
        "df_uterremotos.isnull().sum()"
      ],
      "metadata": {
        "colab": {
          "base_uri": "https://localhost:8080/"
        },
        "id": "tUO884JxPOeD",
        "outputId": "559b2326-fde9-4f8b-b853-0090812cc62d"
      },
      "execution_count": 48,
      "outputs": [
        {
          "output_type": "execute_result",
          "data": {
            "text/plain": [
              "data         0\n",
              "longitude    0\n",
              "latitude     0\n",
              "magnitude    0\n",
              "regiao       0\n",
              "dtype: int64"
            ]
          },
          "metadata": {},
          "execution_count": 48
        }
      ]
    },
    {
      "cell_type": "markdown",
      "source": [
        "O dataframe não tem dados faltantes, mas pode-se perceber pela visualização dos dados e pela análise descritiva que existem localidades que estão fora do Brasil. Como o foco do estudo é o território brasileiro, vou encontrar esse dados e excluí-los."
      ],
      "metadata": {
        "id": "g3kQojm1UOUq"
      }
    },
    {
      "cell_type": "markdown",
      "source": [
        "Na análise descritiva, pode-se perceber que a Guyana é a região com maior frequência de terremotos. Porém, é uma região fora do Brasil. Por isso decidi excluí-la."
      ],
      "metadata": {
        "id": "wyw_HLbgVLkP"
      }
    },
    {
      "cell_type": "code",
      "source": [
        "df_uterremotos.drop(df_uterremotos.loc[df_uterremotos['regiao']=='Guyana'].index, inplace=True)"
      ],
      "metadata": {
        "id": "xPutdP1iVwCa"
      },
      "execution_count": 55,
      "outputs": []
    },
    {
      "cell_type": "markdown",
      "source": [
        "O próximo passo é identificar quais regiões possuem a sigla de algum estado brasileiro. As regiões que não tiverem serão avaliadas."
      ],
      "metadata": {
        "id": "BHIzTPmGX0ZU"
      }
    },
    {
      "cell_type": "code",
      "source": [
        "estados = [\n",
        "    'AC',\n",
        "    'AL',\n",
        "    'AP',\n",
        "    'AM',\n",
        "    'BA',\n",
        "    'CE',\n",
        "    'DF',\n",
        "    'ES',\n",
        "    'GO',\n",
        "    'MA',\n",
        "    'MT',\n",
        "    'MS',\n",
        "    'MG',\n",
        "    'PA',\n",
        "    'PB',\n",
        "    'PR',\n",
        "    'PE',\n",
        "    'PI',\n",
        "    'RJ',\n",
        "    'RN',\n",
        "    'RS',\n",
        "    'RO',\n",
        "    'RR',\n",
        "    'SC',\n",
        "    'SP',\n",
        "    'SE',\n",
        "    'TO'\n",
        "]\n",
        "\n",
        "def temEstadoBR(df):\n",
        "  ''' verifica se a região possui a sigla de algum estado brasileiro '''\n",
        "  for estado in estados:\n",
        "    if estado in df.regiao:\n",
        "      return 1\n",
        "  return 0\n",
        " \n",
        "# creating and passing series to new column\n",
        "df_uterremotos[\"temEstadoBR\"]= df_uterremotos.apply(temEstadoBR, axis=1)"
      ],
      "metadata": {
        "id": "G7vSIsGDV2Em"
      },
      "execution_count": 84,
      "outputs": []
    },
    {
      "cell_type": "code",
      "source": [
        "df_uterremotos[\"temEstadoBR\"]"
      ],
      "metadata": {
        "colab": {
          "base_uri": "https://localhost:8080/"
        },
        "id": "n6HgKgQCYsvA",
        "outputId": "3d0681d0-3105-41e4-a267-0231ffd4ba23"
      },
      "execution_count": 85,
      "outputs": [
        {
          "output_type": "execute_result",
          "data": {
            "text/plain": [
              "0      1\n",
              "1      1\n",
              "2      1\n",
              "3      1\n",
              "4      1\n",
              "      ..\n",
              "320    1\n",
              "321    1\n",
              "322    0\n",
              "323    1\n",
              "324    1\n",
              "Name: temEstadoBR, Length: 277, dtype: int64"
            ]
          },
          "metadata": {},
          "execution_count": 85
        }
      ]
    },
    {
      "cell_type": "code",
      "source": [
        "df_uterremotos.loc[df_uterremotos.temEstadoBR == 0].count()"
      ],
      "metadata": {
        "colab": {
          "base_uri": "https://localhost:8080/"
        },
        "id": "SpJJF9RccWGG",
        "outputId": "efc36fc0-12c9-4ac3-c0a9-7d05a5c589aa"
      },
      "execution_count": 86,
      "outputs": [
        {
          "output_type": "execute_result",
          "data": {
            "text/plain": [
              "data           10\n",
              "longitude      10\n",
              "latitude       10\n",
              "magnitude      10\n",
              "regiao         10\n",
              "temEstadoBR    10\n",
              "dtype: int64"
            ]
          },
          "metadata": {},
          "execution_count": 86
        }
      ]
    },
    {
      "cell_type": "code",
      "source": [
        "df_uterremotos.loc[df_uterremotos.temEstadoBR == 0].head(10)"
      ],
      "metadata": {
        "colab": {
          "base_uri": "https://localhost:8080/",
          "height": 363
        },
        "id": "_XjIIG4sdz2O",
        "outputId": "f29297d6-bc5a-4eb0-c40d-af5a30d4e4a5"
      },
      "execution_count": 87,
      "outputs": [
        {
          "output_type": "execute_result",
          "data": {
            "text/html": [
              "\n",
              "  <div id=\"df-08e576d5-6267-4799-ac16-b3e035043e75\">\n",
              "    <div class=\"colab-df-container\">\n",
              "      <div>\n",
              "<style scoped>\n",
              "    .dataframe tbody tr th:only-of-type {\n",
              "        vertical-align: middle;\n",
              "    }\n",
              "\n",
              "    .dataframe tbody tr th {\n",
              "        vertical-align: top;\n",
              "    }\n",
              "\n",
              "    .dataframe thead th {\n",
              "        text-align: right;\n",
              "    }\n",
              "</style>\n",
              "<table border=\"1\" class=\"dataframe\">\n",
              "  <thead>\n",
              "    <tr style=\"text-align: right;\">\n",
              "      <th></th>\n",
              "      <th>data</th>\n",
              "      <th>longitude</th>\n",
              "      <th>latitude</th>\n",
              "      <th>magnitude</th>\n",
              "      <th>regiao</th>\n",
              "      <th>temEstadoBR</th>\n",
              "    </tr>\n",
              "  </thead>\n",
              "  <tbody>\n",
              "    <tr>\n",
              "      <th>93</th>\n",
              "      <td>2021-10-12T04:34:34.519Z</td>\n",
              "      <td>-71313</td>\n",
              "      <td>-9599</td>\n",
              "      <td>4.3</td>\n",
              "      <td>Peru-Brazil Border Region</td>\n",
              "      <td>0</td>\n",
              "    </tr>\n",
              "    <tr>\n",
              "      <th>94</th>\n",
              "      <td>2021-10-02T12:52:33.664Z</td>\n",
              "      <td>-71204</td>\n",
              "      <td>-9569</td>\n",
              "      <td>5.9</td>\n",
              "      <td>Peru-Brazil Border Region</td>\n",
              "      <td>0</td>\n",
              "    </tr>\n",
              "    <tr>\n",
              "      <th>98</th>\n",
              "      <td>2021-09-27T21:52:31.489Z</td>\n",
              "      <td>-72667</td>\n",
              "      <td>-6805</td>\n",
              "      <td>4.3</td>\n",
              "      <td>Peru-Brazil Border Region</td>\n",
              "      <td>0</td>\n",
              "    </tr>\n",
              "    <tr>\n",
              "      <th>121</th>\n",
              "      <td>2021-09-03T16:29:06.750Z</td>\n",
              "      <td>-61784</td>\n",
              "      <td>-14656</td>\n",
              "      <td>4.0</td>\n",
              "      <td>Central Bolivia</td>\n",
              "      <td>0</td>\n",
              "    </tr>\n",
              "    <tr>\n",
              "      <th>130</th>\n",
              "      <td>2021-08-22T08:28:10.896Z</td>\n",
              "      <td>-74186</td>\n",
              "      <td>-8328</td>\n",
              "      <td>5.0</td>\n",
              "      <td>Peru-Brazil Border Region</td>\n",
              "      <td>0</td>\n",
              "    </tr>\n",
              "    <tr>\n",
              "      <th>206</th>\n",
              "      <td>2021-05-18T15:20:56.712Z</td>\n",
              "      <td>-72573</td>\n",
              "      <td>-8503</td>\n",
              "      <td>4.1</td>\n",
              "      <td>Peru-Brazil Border Region</td>\n",
              "      <td>0</td>\n",
              "    </tr>\n",
              "    <tr>\n",
              "      <th>219</th>\n",
              "      <td>2021-05-08T11:55:29.739Z</td>\n",
              "      <td>-55971</td>\n",
              "      <td>-33643</td>\n",
              "      <td>3.5</td>\n",
              "      <td>Uruguay</td>\n",
              "      <td>0</td>\n",
              "    </tr>\n",
              "    <tr>\n",
              "      <th>239</th>\n",
              "      <td>2021-04-11T04:21:02.674Z</td>\n",
              "      <td>-71304</td>\n",
              "      <td>-9243</td>\n",
              "      <td>4.3</td>\n",
              "      <td>Peru-Brazil Border Region</td>\n",
              "      <td>0</td>\n",
              "    </tr>\n",
              "    <tr>\n",
              "      <th>306</th>\n",
              "      <td>2021-01-29T15:46:07.125Z</td>\n",
              "      <td>-74135</td>\n",
              "      <td>-8490</td>\n",
              "      <td>4.2</td>\n",
              "      <td>Peru-Brazil Border Region</td>\n",
              "      <td>0</td>\n",
              "    </tr>\n",
              "    <tr>\n",
              "      <th>322</th>\n",
              "      <td>2021-01-09T15:39:11.687Z</td>\n",
              "      <td>-58422</td>\n",
              "      <td>-25434</td>\n",
              "      <td>2.2</td>\n",
              "      <td>Northeastern Argentina</td>\n",
              "      <td>0</td>\n",
              "    </tr>\n",
              "  </tbody>\n",
              "</table>\n",
              "</div>\n",
              "      <button class=\"colab-df-convert\" onclick=\"convertToInteractive('df-08e576d5-6267-4799-ac16-b3e035043e75')\"\n",
              "              title=\"Convert this dataframe to an interactive table.\"\n",
              "              style=\"display:none;\">\n",
              "        \n",
              "  <svg xmlns=\"http://www.w3.org/2000/svg\" height=\"24px\"viewBox=\"0 0 24 24\"\n",
              "       width=\"24px\">\n",
              "    <path d=\"M0 0h24v24H0V0z\" fill=\"none\"/>\n",
              "    <path d=\"M18.56 5.44l.94 2.06.94-2.06 2.06-.94-2.06-.94-.94-2.06-.94 2.06-2.06.94zm-11 1L8.5 8.5l.94-2.06 2.06-.94-2.06-.94L8.5 2.5l-.94 2.06-2.06.94zm10 10l.94 2.06.94-2.06 2.06-.94-2.06-.94-.94-2.06-.94 2.06-2.06.94z\"/><path d=\"M17.41 7.96l-1.37-1.37c-.4-.4-.92-.59-1.43-.59-.52 0-1.04.2-1.43.59L10.3 9.45l-7.72 7.72c-.78.78-.78 2.05 0 2.83L4 21.41c.39.39.9.59 1.41.59.51 0 1.02-.2 1.41-.59l7.78-7.78 2.81-2.81c.8-.78.8-2.07 0-2.86zM5.41 20L4 18.59l7.72-7.72 1.47 1.35L5.41 20z\"/>\n",
              "  </svg>\n",
              "      </button>\n",
              "      \n",
              "  <style>\n",
              "    .colab-df-container {\n",
              "      display:flex;\n",
              "      flex-wrap:wrap;\n",
              "      gap: 12px;\n",
              "    }\n",
              "\n",
              "    .colab-df-convert {\n",
              "      background-color: #E8F0FE;\n",
              "      border: none;\n",
              "      border-radius: 50%;\n",
              "      cursor: pointer;\n",
              "      display: none;\n",
              "      fill: #1967D2;\n",
              "      height: 32px;\n",
              "      padding: 0 0 0 0;\n",
              "      width: 32px;\n",
              "    }\n",
              "\n",
              "    .colab-df-convert:hover {\n",
              "      background-color: #E2EBFA;\n",
              "      box-shadow: 0px 1px 2px rgba(60, 64, 67, 0.3), 0px 1px 3px 1px rgba(60, 64, 67, 0.15);\n",
              "      fill: #174EA6;\n",
              "    }\n",
              "\n",
              "    [theme=dark] .colab-df-convert {\n",
              "      background-color: #3B4455;\n",
              "      fill: #D2E3FC;\n",
              "    }\n",
              "\n",
              "    [theme=dark] .colab-df-convert:hover {\n",
              "      background-color: #434B5C;\n",
              "      box-shadow: 0px 1px 3px 1px rgba(0, 0, 0, 0.15);\n",
              "      filter: drop-shadow(0px 1px 2px rgba(0, 0, 0, 0.3));\n",
              "      fill: #FFFFFF;\n",
              "    }\n",
              "  </style>\n",
              "\n",
              "      <script>\n",
              "        const buttonEl =\n",
              "          document.querySelector('#df-08e576d5-6267-4799-ac16-b3e035043e75 button.colab-df-convert');\n",
              "        buttonEl.style.display =\n",
              "          google.colab.kernel.accessAllowed ? 'block' : 'none';\n",
              "\n",
              "        async function convertToInteractive(key) {\n",
              "          const element = document.querySelector('#df-08e576d5-6267-4799-ac16-b3e035043e75');\n",
              "          const dataTable =\n",
              "            await google.colab.kernel.invokeFunction('convertToInteractive',\n",
              "                                                     [key], {});\n",
              "          if (!dataTable) return;\n",
              "\n",
              "          const docLinkHtml = 'Like what you see? Visit the ' +\n",
              "            '<a target=\"_blank\" href=https://colab.research.google.com/notebooks/data_table.ipynb>data table notebook</a>'\n",
              "            + ' to learn more about interactive tables.';\n",
              "          element.innerHTML = '';\n",
              "          dataTable['output_type'] = 'display_data';\n",
              "          await google.colab.output.renderOutput(dataTable, element);\n",
              "          const docLink = document.createElement('div');\n",
              "          docLink.innerHTML = docLinkHtml;\n",
              "          element.appendChild(docLink);\n",
              "        }\n",
              "      </script>\n",
              "    </div>\n",
              "  </div>\n",
              "  "
            ],
            "text/plain": [
              "                         data  ...  temEstadoBR\n",
              "93   2021-10-12T04:34:34.519Z  ...            0\n",
              "94   2021-10-02T12:52:33.664Z  ...            0\n",
              "98   2021-09-27T21:52:31.489Z  ...            0\n",
              "121  2021-09-03T16:29:06.750Z  ...            0\n",
              "130  2021-08-22T08:28:10.896Z  ...            0\n",
              "206  2021-05-18T15:20:56.712Z  ...            0\n",
              "219  2021-05-08T11:55:29.739Z  ...            0\n",
              "239  2021-04-11T04:21:02.674Z  ...            0\n",
              "306  2021-01-29T15:46:07.125Z  ...            0\n",
              "322  2021-01-09T15:39:11.687Z  ...            0\n",
              "\n",
              "[10 rows x 6 columns]"
            ]
          },
          "metadata": {},
          "execution_count": 87
        }
      ]
    },
    {
      "cell_type": "markdown",
      "source": [
        "Vou excluir as linhas que contém as regiões do Uruguai, Bolívia e Argentina e investigar as linhas que contém a região de fronteira com o Peru."
      ],
      "metadata": {
        "id": "OEJbnk3LgMOG"
      }
    },
    {
      "cell_type": "code",
      "source": [
        "df_uterremotos.drop(df_uterremotos.loc[df_uterremotos['regiao']=='Central Bolivia'].index, inplace=True)\n",
        "df_uterremotos.drop(df_uterremotos.loc[df_uterremotos['regiao']=='Uruguay'].index, inplace=True)\n",
        "df_uterremotos.drop(df_uterremotos.loc[df_uterremotos['regiao']=='Northeastern Argentina'].index, inplace=True)"
      ],
      "metadata": {
        "id": "3AVIOYrrgLV-"
      },
      "execution_count": 96,
      "outputs": []
    },
    {
      "cell_type": "code",
      "source": [
        "df_uterremotos.loc[df_uterremotos.temEstadoBR == 0].head(10)"
      ],
      "metadata": {
        "colab": {
          "base_uri": "https://localhost:8080/",
          "height": 269
        },
        "id": "2VREXEwngmP-",
        "outputId": "f2cd3744-1fe6-4fc9-9696-1cc79bc10dd5"
      },
      "execution_count": 97,
      "outputs": [
        {
          "output_type": "execute_result",
          "data": {
            "text/html": [
              "\n",
              "  <div id=\"df-cdf1bc15-b7d6-4105-8bae-1e1160188995\">\n",
              "    <div class=\"colab-df-container\">\n",
              "      <div>\n",
              "<style scoped>\n",
              "    .dataframe tbody tr th:only-of-type {\n",
              "        vertical-align: middle;\n",
              "    }\n",
              "\n",
              "    .dataframe tbody tr th {\n",
              "        vertical-align: top;\n",
              "    }\n",
              "\n",
              "    .dataframe thead th {\n",
              "        text-align: right;\n",
              "    }\n",
              "</style>\n",
              "<table border=\"1\" class=\"dataframe\">\n",
              "  <thead>\n",
              "    <tr style=\"text-align: right;\">\n",
              "      <th></th>\n",
              "      <th>data</th>\n",
              "      <th>longitude</th>\n",
              "      <th>latitude</th>\n",
              "      <th>magnitude</th>\n",
              "      <th>regiao</th>\n",
              "      <th>temEstadoBR</th>\n",
              "    </tr>\n",
              "  </thead>\n",
              "  <tbody>\n",
              "    <tr>\n",
              "      <th>93</th>\n",
              "      <td>2021-10-12T04:34:34.519Z</td>\n",
              "      <td>-71313</td>\n",
              "      <td>-9599</td>\n",
              "      <td>4.3</td>\n",
              "      <td>Peru-Brazil Border Region</td>\n",
              "      <td>0</td>\n",
              "    </tr>\n",
              "    <tr>\n",
              "      <th>94</th>\n",
              "      <td>2021-10-02T12:52:33.664Z</td>\n",
              "      <td>-71204</td>\n",
              "      <td>-9569</td>\n",
              "      <td>5.9</td>\n",
              "      <td>Peru-Brazil Border Region</td>\n",
              "      <td>0</td>\n",
              "    </tr>\n",
              "    <tr>\n",
              "      <th>98</th>\n",
              "      <td>2021-09-27T21:52:31.489Z</td>\n",
              "      <td>-72667</td>\n",
              "      <td>-6805</td>\n",
              "      <td>4.3</td>\n",
              "      <td>Peru-Brazil Border Region</td>\n",
              "      <td>0</td>\n",
              "    </tr>\n",
              "    <tr>\n",
              "      <th>130</th>\n",
              "      <td>2021-08-22T08:28:10.896Z</td>\n",
              "      <td>-74186</td>\n",
              "      <td>-8328</td>\n",
              "      <td>5.0</td>\n",
              "      <td>Peru-Brazil Border Region</td>\n",
              "      <td>0</td>\n",
              "    </tr>\n",
              "    <tr>\n",
              "      <th>206</th>\n",
              "      <td>2021-05-18T15:20:56.712Z</td>\n",
              "      <td>-72573</td>\n",
              "      <td>-8503</td>\n",
              "      <td>4.1</td>\n",
              "      <td>Peru-Brazil Border Region</td>\n",
              "      <td>0</td>\n",
              "    </tr>\n",
              "    <tr>\n",
              "      <th>239</th>\n",
              "      <td>2021-04-11T04:21:02.674Z</td>\n",
              "      <td>-71304</td>\n",
              "      <td>-9243</td>\n",
              "      <td>4.3</td>\n",
              "      <td>Peru-Brazil Border Region</td>\n",
              "      <td>0</td>\n",
              "    </tr>\n",
              "    <tr>\n",
              "      <th>306</th>\n",
              "      <td>2021-01-29T15:46:07.125Z</td>\n",
              "      <td>-74135</td>\n",
              "      <td>-8490</td>\n",
              "      <td>4.2</td>\n",
              "      <td>Peru-Brazil Border Region</td>\n",
              "      <td>0</td>\n",
              "    </tr>\n",
              "  </tbody>\n",
              "</table>\n",
              "</div>\n",
              "      <button class=\"colab-df-convert\" onclick=\"convertToInteractive('df-cdf1bc15-b7d6-4105-8bae-1e1160188995')\"\n",
              "              title=\"Convert this dataframe to an interactive table.\"\n",
              "              style=\"display:none;\">\n",
              "        \n",
              "  <svg xmlns=\"http://www.w3.org/2000/svg\" height=\"24px\"viewBox=\"0 0 24 24\"\n",
              "       width=\"24px\">\n",
              "    <path d=\"M0 0h24v24H0V0z\" fill=\"none\"/>\n",
              "    <path d=\"M18.56 5.44l.94 2.06.94-2.06 2.06-.94-2.06-.94-.94-2.06-.94 2.06-2.06.94zm-11 1L8.5 8.5l.94-2.06 2.06-.94-2.06-.94L8.5 2.5l-.94 2.06-2.06.94zm10 10l.94 2.06.94-2.06 2.06-.94-2.06-.94-.94-2.06-.94 2.06-2.06.94z\"/><path d=\"M17.41 7.96l-1.37-1.37c-.4-.4-.92-.59-1.43-.59-.52 0-1.04.2-1.43.59L10.3 9.45l-7.72 7.72c-.78.78-.78 2.05 0 2.83L4 21.41c.39.39.9.59 1.41.59.51 0 1.02-.2 1.41-.59l7.78-7.78 2.81-2.81c.8-.78.8-2.07 0-2.86zM5.41 20L4 18.59l7.72-7.72 1.47 1.35L5.41 20z\"/>\n",
              "  </svg>\n",
              "      </button>\n",
              "      \n",
              "  <style>\n",
              "    .colab-df-container {\n",
              "      display:flex;\n",
              "      flex-wrap:wrap;\n",
              "      gap: 12px;\n",
              "    }\n",
              "\n",
              "    .colab-df-convert {\n",
              "      background-color: #E8F0FE;\n",
              "      border: none;\n",
              "      border-radius: 50%;\n",
              "      cursor: pointer;\n",
              "      display: none;\n",
              "      fill: #1967D2;\n",
              "      height: 32px;\n",
              "      padding: 0 0 0 0;\n",
              "      width: 32px;\n",
              "    }\n",
              "\n",
              "    .colab-df-convert:hover {\n",
              "      background-color: #E2EBFA;\n",
              "      box-shadow: 0px 1px 2px rgba(60, 64, 67, 0.3), 0px 1px 3px 1px rgba(60, 64, 67, 0.15);\n",
              "      fill: #174EA6;\n",
              "    }\n",
              "\n",
              "    [theme=dark] .colab-df-convert {\n",
              "      background-color: #3B4455;\n",
              "      fill: #D2E3FC;\n",
              "    }\n",
              "\n",
              "    [theme=dark] .colab-df-convert:hover {\n",
              "      background-color: #434B5C;\n",
              "      box-shadow: 0px 1px 3px 1px rgba(0, 0, 0, 0.15);\n",
              "      filter: drop-shadow(0px 1px 2px rgba(0, 0, 0, 0.3));\n",
              "      fill: #FFFFFF;\n",
              "    }\n",
              "  </style>\n",
              "\n",
              "      <script>\n",
              "        const buttonEl =\n",
              "          document.querySelector('#df-cdf1bc15-b7d6-4105-8bae-1e1160188995 button.colab-df-convert');\n",
              "        buttonEl.style.display =\n",
              "          google.colab.kernel.accessAllowed ? 'block' : 'none';\n",
              "\n",
              "        async function convertToInteractive(key) {\n",
              "          const element = document.querySelector('#df-cdf1bc15-b7d6-4105-8bae-1e1160188995');\n",
              "          const dataTable =\n",
              "            await google.colab.kernel.invokeFunction('convertToInteractive',\n",
              "                                                     [key], {});\n",
              "          if (!dataTable) return;\n",
              "\n",
              "          const docLinkHtml = 'Like what you see? Visit the ' +\n",
              "            '<a target=\"_blank\" href=https://colab.research.google.com/notebooks/data_table.ipynb>data table notebook</a>'\n",
              "            + ' to learn more about interactive tables.';\n",
              "          element.innerHTML = '';\n",
              "          dataTable['output_type'] = 'display_data';\n",
              "          await google.colab.output.renderOutput(dataTable, element);\n",
              "          const docLink = document.createElement('div');\n",
              "          docLink.innerHTML = docLinkHtml;\n",
              "          element.appendChild(docLink);\n",
              "        }\n",
              "      </script>\n",
              "    </div>\n",
              "  </div>\n",
              "  "
            ],
            "text/plain": [
              "                         data  ...  temEstadoBR\n",
              "93   2021-10-12T04:34:34.519Z  ...            0\n",
              "94   2021-10-02T12:52:33.664Z  ...            0\n",
              "98   2021-09-27T21:52:31.489Z  ...            0\n",
              "130  2021-08-22T08:28:10.896Z  ...            0\n",
              "206  2021-05-18T15:20:56.712Z  ...            0\n",
              "239  2021-04-11T04:21:02.674Z  ...            0\n",
              "306  2021-01-29T15:46:07.125Z  ...            0\n",
              "\n",
              "[7 rows x 6 columns]"
            ]
          },
          "metadata": {},
          "execution_count": 97
        }
      ]
    },
    {
      "cell_type": "code",
      "source": [
        ""
      ],
      "metadata": {
        "id": "S_qkB6DFhEum"
      },
      "execution_count": null,
      "outputs": []
    }
  ]
}